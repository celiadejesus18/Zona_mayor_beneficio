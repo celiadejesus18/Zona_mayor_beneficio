{
 "cells": [
  {
   "cell_type": "markdown",
   "metadata": {},
   "source": [
    "# Petrolera OilyGiant"
   ]
  },
  {
   "cell_type": "markdown",
   "metadata": {},
   "source": [
    "Se nos ha solicitado encontrar los mejores lugares para abrir 200 pozos nuevos de petróleo.\n",
    "Para la tarea nos ha proporcionado datos sobre la calidad del crudo y el volumen de reservas de cada pozo petrolero de tres regiones.\n",
    "\n",
    "El objetivo principal es crear un modelo que permita elegir la región con el mayor beneficio.\n",
    "\n",
    "Tenemos 3 dataset uno por cada región, como primer paso preprocesaremos la información (valores nan, duplicados, tipo de datos). \n",
    "\n",
    "Posterior a ello crearemos un modelo para predecir el volumen de reservas de pozos nuevos, con base en los resultados seleccionaremos los pozos que tienen mayor volumen de reserva estimado, con esta selección definiremos la región con el mayor beneficio."
   ]
  },
  {
   "cell_type": "markdown",
   "metadata": {},
   "source": [
    " ## Importación de librerías, descarga y preprocesamiento de los datos"
   ]
  },
  {
   "cell_type": "markdown",
   "metadata": {},
   "source": [
    "### Importación y lectura de datos"
   ]
  },
  {
   "cell_type": "code",
   "execution_count": null,
   "metadata": {},
   "outputs": [],
   "source": [
    "# importar librerias\n",
    "import pandas as pd\n",
    "import numpy as np\n",
    "import matplotlib.pyplot as plt\n",
    "from sklearn.model_selection import train_test_split\n",
    "from sklearn.linear_model import LinearRegression\n",
    "from sklearn.metrics import mean_squared_error"
   ]
  },
  {
   "cell_type": "code",
   "execution_count": null,
   "metadata": {},
   "outputs": [],
   "source": [
    "# leer datos\n",
    "geo_0 = pd.read_csv('./geo_data_0.csv')\n",
    "geo_1 = pd.read_csv('./geo_data_1.csv')\n",
    "geo_2 = pd.read_csv('./geo_data_2.csv')"
   ]
  },
  {
   "cell_type": "code",
   "execution_count": 5,
   "metadata": {},
   "outputs": [
    {
     "data": {
      "text/html": [
       "<div>\n",
       "<style scoped>\n",
       "    .dataframe tbody tr th:only-of-type {\n",
       "        vertical-align: middle;\n",
       "    }\n",
       "\n",
       "    .dataframe tbody tr th {\n",
       "        vertical-align: top;\n",
       "    }\n",
       "\n",
       "    .dataframe thead th {\n",
       "        text-align: right;\n",
       "    }\n",
       "</style>\n",
       "<table border=\"1\" class=\"dataframe\">\n",
       "  <thead>\n",
       "    <tr style=\"text-align: right;\">\n",
       "      <th></th>\n",
       "      <th>id</th>\n",
       "      <th>f0</th>\n",
       "      <th>f1</th>\n",
       "      <th>f2</th>\n",
       "      <th>product</th>\n",
       "    </tr>\n",
       "  </thead>\n",
       "  <tbody>\n",
       "    <tr>\n",
       "      <th>0</th>\n",
       "      <td>txEyH</td>\n",
       "      <td>0.705745</td>\n",
       "      <td>-0.497823</td>\n",
       "      <td>1.221170</td>\n",
       "      <td>105.280062</td>\n",
       "    </tr>\n",
       "    <tr>\n",
       "      <th>1</th>\n",
       "      <td>2acmU</td>\n",
       "      <td>1.334711</td>\n",
       "      <td>-0.340164</td>\n",
       "      <td>4.365080</td>\n",
       "      <td>73.037750</td>\n",
       "    </tr>\n",
       "    <tr>\n",
       "      <th>2</th>\n",
       "      <td>409Wp</td>\n",
       "      <td>1.022732</td>\n",
       "      <td>0.151990</td>\n",
       "      <td>1.419926</td>\n",
       "      <td>85.265647</td>\n",
       "    </tr>\n",
       "    <tr>\n",
       "      <th>3</th>\n",
       "      <td>iJLyR</td>\n",
       "      <td>-0.032172</td>\n",
       "      <td>0.139033</td>\n",
       "      <td>2.978566</td>\n",
       "      <td>168.620776</td>\n",
       "    </tr>\n",
       "    <tr>\n",
       "      <th>4</th>\n",
       "      <td>Xdl7t</td>\n",
       "      <td>1.988431</td>\n",
       "      <td>0.155413</td>\n",
       "      <td>4.751769</td>\n",
       "      <td>154.036647</td>\n",
       "    </tr>\n",
       "  </tbody>\n",
       "</table>\n",
       "</div>"
      ],
      "text/plain": [
       "      id        f0        f1        f2     product\n",
       "0  txEyH  0.705745 -0.497823  1.221170  105.280062\n",
       "1  2acmU  1.334711 -0.340164  4.365080   73.037750\n",
       "2  409Wp  1.022732  0.151990  1.419926   85.265647\n",
       "3  iJLyR -0.032172  0.139033  2.978566  168.620776\n",
       "4  Xdl7t  1.988431  0.155413  4.751769  154.036647"
      ]
     },
     "execution_count": 5,
     "metadata": {},
     "output_type": "execute_result"
    }
   ],
   "source": [
    "geo_0.head()"
   ]
  },
  {
   "cell_type": "code",
   "execution_count": 6,
   "metadata": {
    "scrolled": true
   },
   "outputs": [
    {
     "data": {
      "text/html": [
       "<div>\n",
       "<style scoped>\n",
       "    .dataframe tbody tr th:only-of-type {\n",
       "        vertical-align: middle;\n",
       "    }\n",
       "\n",
       "    .dataframe tbody tr th {\n",
       "        vertical-align: top;\n",
       "    }\n",
       "\n",
       "    .dataframe thead th {\n",
       "        text-align: right;\n",
       "    }\n",
       "</style>\n",
       "<table border=\"1\" class=\"dataframe\">\n",
       "  <thead>\n",
       "    <tr style=\"text-align: right;\">\n",
       "      <th></th>\n",
       "      <th>id</th>\n",
       "      <th>f0</th>\n",
       "      <th>f1</th>\n",
       "      <th>f2</th>\n",
       "      <th>product</th>\n",
       "    </tr>\n",
       "  </thead>\n",
       "  <tbody>\n",
       "    <tr>\n",
       "      <th>0</th>\n",
       "      <td>kBEdx</td>\n",
       "      <td>-15.001348</td>\n",
       "      <td>-8.276000</td>\n",
       "      <td>-0.005876</td>\n",
       "      <td>3.179103</td>\n",
       "    </tr>\n",
       "    <tr>\n",
       "      <th>1</th>\n",
       "      <td>62mP7</td>\n",
       "      <td>14.272088</td>\n",
       "      <td>-3.475083</td>\n",
       "      <td>0.999183</td>\n",
       "      <td>26.953261</td>\n",
       "    </tr>\n",
       "    <tr>\n",
       "      <th>2</th>\n",
       "      <td>vyE1P</td>\n",
       "      <td>6.263187</td>\n",
       "      <td>-5.948386</td>\n",
       "      <td>5.001160</td>\n",
       "      <td>134.766305</td>\n",
       "    </tr>\n",
       "    <tr>\n",
       "      <th>3</th>\n",
       "      <td>KcrkZ</td>\n",
       "      <td>-13.081196</td>\n",
       "      <td>-11.506057</td>\n",
       "      <td>4.999415</td>\n",
       "      <td>137.945408</td>\n",
       "    </tr>\n",
       "    <tr>\n",
       "      <th>4</th>\n",
       "      <td>AHL4O</td>\n",
       "      <td>12.702195</td>\n",
       "      <td>-8.147433</td>\n",
       "      <td>5.004363</td>\n",
       "      <td>134.766305</td>\n",
       "    </tr>\n",
       "  </tbody>\n",
       "</table>\n",
       "</div>"
      ],
      "text/plain": [
       "      id         f0         f1        f2     product\n",
       "0  kBEdx -15.001348  -8.276000 -0.005876    3.179103\n",
       "1  62mP7  14.272088  -3.475083  0.999183   26.953261\n",
       "2  vyE1P   6.263187  -5.948386  5.001160  134.766305\n",
       "3  KcrkZ -13.081196 -11.506057  4.999415  137.945408\n",
       "4  AHL4O  12.702195  -8.147433  5.004363  134.766305"
      ]
     },
     "execution_count": 6,
     "metadata": {},
     "output_type": "execute_result"
    }
   ],
   "source": [
    "geo_1.head()"
   ]
  },
  {
   "cell_type": "code",
   "execution_count": 7,
   "metadata": {
    "scrolled": true
   },
   "outputs": [
    {
     "data": {
      "text/html": [
       "<div>\n",
       "<style scoped>\n",
       "    .dataframe tbody tr th:only-of-type {\n",
       "        vertical-align: middle;\n",
       "    }\n",
       "\n",
       "    .dataframe tbody tr th {\n",
       "        vertical-align: top;\n",
       "    }\n",
       "\n",
       "    .dataframe thead th {\n",
       "        text-align: right;\n",
       "    }\n",
       "</style>\n",
       "<table border=\"1\" class=\"dataframe\">\n",
       "  <thead>\n",
       "    <tr style=\"text-align: right;\">\n",
       "      <th></th>\n",
       "      <th>id</th>\n",
       "      <th>f0</th>\n",
       "      <th>f1</th>\n",
       "      <th>f2</th>\n",
       "      <th>product</th>\n",
       "    </tr>\n",
       "  </thead>\n",
       "  <tbody>\n",
       "    <tr>\n",
       "      <th>0</th>\n",
       "      <td>fwXo0</td>\n",
       "      <td>-1.146987</td>\n",
       "      <td>0.963328</td>\n",
       "      <td>-0.828965</td>\n",
       "      <td>27.758673</td>\n",
       "    </tr>\n",
       "    <tr>\n",
       "      <th>1</th>\n",
       "      <td>WJtFt</td>\n",
       "      <td>0.262778</td>\n",
       "      <td>0.269839</td>\n",
       "      <td>-2.530187</td>\n",
       "      <td>56.069697</td>\n",
       "    </tr>\n",
       "    <tr>\n",
       "      <th>2</th>\n",
       "      <td>ovLUW</td>\n",
       "      <td>0.194587</td>\n",
       "      <td>0.289035</td>\n",
       "      <td>-5.586433</td>\n",
       "      <td>62.871910</td>\n",
       "    </tr>\n",
       "    <tr>\n",
       "      <th>3</th>\n",
       "      <td>q6cA6</td>\n",
       "      <td>2.236060</td>\n",
       "      <td>-0.553760</td>\n",
       "      <td>0.930038</td>\n",
       "      <td>114.572842</td>\n",
       "    </tr>\n",
       "    <tr>\n",
       "      <th>4</th>\n",
       "      <td>WPMUX</td>\n",
       "      <td>-0.515993</td>\n",
       "      <td>1.716266</td>\n",
       "      <td>5.899011</td>\n",
       "      <td>149.600746</td>\n",
       "    </tr>\n",
       "  </tbody>\n",
       "</table>\n",
       "</div>"
      ],
      "text/plain": [
       "      id        f0        f1        f2     product\n",
       "0  fwXo0 -1.146987  0.963328 -0.828965   27.758673\n",
       "1  WJtFt  0.262778  0.269839 -2.530187   56.069697\n",
       "2  ovLUW  0.194587  0.289035 -5.586433   62.871910\n",
       "3  q6cA6  2.236060 -0.553760  0.930038  114.572842\n",
       "4  WPMUX -0.515993  1.716266  5.899011  149.600746"
      ]
     },
     "execution_count": 7,
     "metadata": {},
     "output_type": "execute_result"
    }
   ],
   "source": [
    "geo_2.head()"
   ]
  },
  {
   "cell_type": "code",
   "execution_count": 8,
   "metadata": {
    "scrolled": true
   },
   "outputs": [
    {
     "name": "stdout",
     "output_type": "stream",
     "text": [
      "<class 'pandas.core.frame.DataFrame'>\n",
      "RangeIndex: 100000 entries, 0 to 99999\n",
      "Data columns (total 5 columns):\n",
      " #   Column   Non-Null Count   Dtype  \n",
      "---  ------   --------------   -----  \n",
      " 0   id       100000 non-null  object \n",
      " 1   f0       100000 non-null  float64\n",
      " 2   f1       100000 non-null  float64\n",
      " 3   f2       100000 non-null  float64\n",
      " 4   product  100000 non-null  float64\n",
      "dtypes: float64(4), object(1)\n",
      "memory usage: 3.8+ MB\n"
     ]
    }
   ],
   "source": [
    "geo_0.info()"
   ]
  },
  {
   "cell_type": "code",
   "execution_count": 9,
   "metadata": {
    "scrolled": true
   },
   "outputs": [
    {
     "name": "stdout",
     "output_type": "stream",
     "text": [
      "<class 'pandas.core.frame.DataFrame'>\n",
      "RangeIndex: 100000 entries, 0 to 99999\n",
      "Data columns (total 5 columns):\n",
      " #   Column   Non-Null Count   Dtype  \n",
      "---  ------   --------------   -----  \n",
      " 0   id       100000 non-null  object \n",
      " 1   f0       100000 non-null  float64\n",
      " 2   f1       100000 non-null  float64\n",
      " 3   f2       100000 non-null  float64\n",
      " 4   product  100000 non-null  float64\n",
      "dtypes: float64(4), object(1)\n",
      "memory usage: 3.8+ MB\n"
     ]
    }
   ],
   "source": [
    "geo_1.info()"
   ]
  },
  {
   "cell_type": "code",
   "execution_count": 10,
   "metadata": {},
   "outputs": [
    {
     "name": "stdout",
     "output_type": "stream",
     "text": [
      "<class 'pandas.core.frame.DataFrame'>\n",
      "RangeIndex: 100000 entries, 0 to 99999\n",
      "Data columns (total 5 columns):\n",
      " #   Column   Non-Null Count   Dtype  \n",
      "---  ------   --------------   -----  \n",
      " 0   id       100000 non-null  object \n",
      " 1   f0       100000 non-null  float64\n",
      " 2   f1       100000 non-null  float64\n",
      " 3   f2       100000 non-null  float64\n",
      " 4   product  100000 non-null  float64\n",
      "dtypes: float64(4), object(1)\n",
      "memory usage: 3.8+ MB\n"
     ]
    }
   ],
   "source": [
    "geo_2.info()"
   ]
  },
  {
   "cell_type": "code",
   "execution_count": 11,
   "metadata": {
    "scrolled": true
   },
   "outputs": [
    {
     "data": {
      "text/html": [
       "<div>\n",
       "<style scoped>\n",
       "    .dataframe tbody tr th:only-of-type {\n",
       "        vertical-align: middle;\n",
       "    }\n",
       "\n",
       "    .dataframe tbody tr th {\n",
       "        vertical-align: top;\n",
       "    }\n",
       "\n",
       "    .dataframe thead th {\n",
       "        text-align: right;\n",
       "    }\n",
       "</style>\n",
       "<table border=\"1\" class=\"dataframe\">\n",
       "  <thead>\n",
       "    <tr style=\"text-align: right;\">\n",
       "      <th></th>\n",
       "      <th>f0</th>\n",
       "      <th>f1</th>\n",
       "      <th>f2</th>\n",
       "      <th>product</th>\n",
       "    </tr>\n",
       "  </thead>\n",
       "  <tbody>\n",
       "    <tr>\n",
       "      <th>count</th>\n",
       "      <td>100000.000000</td>\n",
       "      <td>100000.000000</td>\n",
       "      <td>100000.000000</td>\n",
       "      <td>100000.000000</td>\n",
       "    </tr>\n",
       "    <tr>\n",
       "      <th>mean</th>\n",
       "      <td>0.500419</td>\n",
       "      <td>0.250143</td>\n",
       "      <td>2.502647</td>\n",
       "      <td>92.500000</td>\n",
       "    </tr>\n",
       "    <tr>\n",
       "      <th>std</th>\n",
       "      <td>0.871832</td>\n",
       "      <td>0.504433</td>\n",
       "      <td>3.248248</td>\n",
       "      <td>44.288691</td>\n",
       "    </tr>\n",
       "    <tr>\n",
       "      <th>min</th>\n",
       "      <td>-1.408605</td>\n",
       "      <td>-0.848218</td>\n",
       "      <td>-12.088328</td>\n",
       "      <td>0.000000</td>\n",
       "    </tr>\n",
       "    <tr>\n",
       "      <th>25%</th>\n",
       "      <td>-0.072580</td>\n",
       "      <td>-0.200881</td>\n",
       "      <td>0.287748</td>\n",
       "      <td>56.497507</td>\n",
       "    </tr>\n",
       "    <tr>\n",
       "      <th>50%</th>\n",
       "      <td>0.502360</td>\n",
       "      <td>0.250252</td>\n",
       "      <td>2.515969</td>\n",
       "      <td>91.849972</td>\n",
       "    </tr>\n",
       "    <tr>\n",
       "      <th>75%</th>\n",
       "      <td>1.073581</td>\n",
       "      <td>0.700646</td>\n",
       "      <td>4.715088</td>\n",
       "      <td>128.564089</td>\n",
       "    </tr>\n",
       "    <tr>\n",
       "      <th>max</th>\n",
       "      <td>2.362331</td>\n",
       "      <td>1.343769</td>\n",
       "      <td>16.003790</td>\n",
       "      <td>185.364347</td>\n",
       "    </tr>\n",
       "  </tbody>\n",
       "</table>\n",
       "</div>"
      ],
      "text/plain": [
       "                  f0             f1             f2        product\n",
       "count  100000.000000  100000.000000  100000.000000  100000.000000\n",
       "mean        0.500419       0.250143       2.502647      92.500000\n",
       "std         0.871832       0.504433       3.248248      44.288691\n",
       "min        -1.408605      -0.848218     -12.088328       0.000000\n",
       "25%        -0.072580      -0.200881       0.287748      56.497507\n",
       "50%         0.502360       0.250252       2.515969      91.849972\n",
       "75%         1.073581       0.700646       4.715088     128.564089\n",
       "max         2.362331       1.343769      16.003790     185.364347"
      ]
     },
     "execution_count": 11,
     "metadata": {},
     "output_type": "execute_result"
    }
   ],
   "source": [
    "geo_0.describe()"
   ]
  },
  {
   "cell_type": "code",
   "execution_count": 12,
   "metadata": {
    "scrolled": true
   },
   "outputs": [
    {
     "data": {
      "text/html": [
       "<div>\n",
       "<style scoped>\n",
       "    .dataframe tbody tr th:only-of-type {\n",
       "        vertical-align: middle;\n",
       "    }\n",
       "\n",
       "    .dataframe tbody tr th {\n",
       "        vertical-align: top;\n",
       "    }\n",
       "\n",
       "    .dataframe thead th {\n",
       "        text-align: right;\n",
       "    }\n",
       "</style>\n",
       "<table border=\"1\" class=\"dataframe\">\n",
       "  <thead>\n",
       "    <tr style=\"text-align: right;\">\n",
       "      <th></th>\n",
       "      <th>f0</th>\n",
       "      <th>f1</th>\n",
       "      <th>f2</th>\n",
       "      <th>product</th>\n",
       "    </tr>\n",
       "  </thead>\n",
       "  <tbody>\n",
       "    <tr>\n",
       "      <th>count</th>\n",
       "      <td>100000.000000</td>\n",
       "      <td>100000.000000</td>\n",
       "      <td>100000.000000</td>\n",
       "      <td>100000.000000</td>\n",
       "    </tr>\n",
       "    <tr>\n",
       "      <th>mean</th>\n",
       "      <td>1.141296</td>\n",
       "      <td>-4.796579</td>\n",
       "      <td>2.494541</td>\n",
       "      <td>68.825000</td>\n",
       "    </tr>\n",
       "    <tr>\n",
       "      <th>std</th>\n",
       "      <td>8.965932</td>\n",
       "      <td>5.119872</td>\n",
       "      <td>1.703572</td>\n",
       "      <td>45.944423</td>\n",
       "    </tr>\n",
       "    <tr>\n",
       "      <th>min</th>\n",
       "      <td>-31.609576</td>\n",
       "      <td>-26.358598</td>\n",
       "      <td>-0.018144</td>\n",
       "      <td>0.000000</td>\n",
       "    </tr>\n",
       "    <tr>\n",
       "      <th>25%</th>\n",
       "      <td>-6.298551</td>\n",
       "      <td>-8.267985</td>\n",
       "      <td>1.000021</td>\n",
       "      <td>26.953261</td>\n",
       "    </tr>\n",
       "    <tr>\n",
       "      <th>50%</th>\n",
       "      <td>1.153055</td>\n",
       "      <td>-4.813172</td>\n",
       "      <td>2.011479</td>\n",
       "      <td>57.085625</td>\n",
       "    </tr>\n",
       "    <tr>\n",
       "      <th>75%</th>\n",
       "      <td>8.621015</td>\n",
       "      <td>-1.332816</td>\n",
       "      <td>3.999904</td>\n",
       "      <td>107.813044</td>\n",
       "    </tr>\n",
       "    <tr>\n",
       "      <th>max</th>\n",
       "      <td>29.421755</td>\n",
       "      <td>18.734063</td>\n",
       "      <td>5.019721</td>\n",
       "      <td>137.945408</td>\n",
       "    </tr>\n",
       "  </tbody>\n",
       "</table>\n",
       "</div>"
      ],
      "text/plain": [
       "                  f0             f1             f2        product\n",
       "count  100000.000000  100000.000000  100000.000000  100000.000000\n",
       "mean        1.141296      -4.796579       2.494541      68.825000\n",
       "std         8.965932       5.119872       1.703572      45.944423\n",
       "min       -31.609576     -26.358598      -0.018144       0.000000\n",
       "25%        -6.298551      -8.267985       1.000021      26.953261\n",
       "50%         1.153055      -4.813172       2.011479      57.085625\n",
       "75%         8.621015      -1.332816       3.999904     107.813044\n",
       "max        29.421755      18.734063       5.019721     137.945408"
      ]
     },
     "execution_count": 12,
     "metadata": {},
     "output_type": "execute_result"
    }
   ],
   "source": [
    "geo_1.describe()"
   ]
  },
  {
   "cell_type": "code",
   "execution_count": 13,
   "metadata": {
    "scrolled": true
   },
   "outputs": [
    {
     "data": {
      "text/html": [
       "<div>\n",
       "<style scoped>\n",
       "    .dataframe tbody tr th:only-of-type {\n",
       "        vertical-align: middle;\n",
       "    }\n",
       "\n",
       "    .dataframe tbody tr th {\n",
       "        vertical-align: top;\n",
       "    }\n",
       "\n",
       "    .dataframe thead th {\n",
       "        text-align: right;\n",
       "    }\n",
       "</style>\n",
       "<table border=\"1\" class=\"dataframe\">\n",
       "  <thead>\n",
       "    <tr style=\"text-align: right;\">\n",
       "      <th></th>\n",
       "      <th>f0</th>\n",
       "      <th>f1</th>\n",
       "      <th>f2</th>\n",
       "      <th>product</th>\n",
       "    </tr>\n",
       "  </thead>\n",
       "  <tbody>\n",
       "    <tr>\n",
       "      <th>count</th>\n",
       "      <td>100000.000000</td>\n",
       "      <td>100000.000000</td>\n",
       "      <td>100000.000000</td>\n",
       "      <td>100000.000000</td>\n",
       "    </tr>\n",
       "    <tr>\n",
       "      <th>mean</th>\n",
       "      <td>0.002023</td>\n",
       "      <td>-0.002081</td>\n",
       "      <td>2.495128</td>\n",
       "      <td>95.000000</td>\n",
       "    </tr>\n",
       "    <tr>\n",
       "      <th>std</th>\n",
       "      <td>1.732045</td>\n",
       "      <td>1.730417</td>\n",
       "      <td>3.473445</td>\n",
       "      <td>44.749921</td>\n",
       "    </tr>\n",
       "    <tr>\n",
       "      <th>min</th>\n",
       "      <td>-8.760004</td>\n",
       "      <td>-7.084020</td>\n",
       "      <td>-11.970335</td>\n",
       "      <td>0.000000</td>\n",
       "    </tr>\n",
       "    <tr>\n",
       "      <th>25%</th>\n",
       "      <td>-1.162288</td>\n",
       "      <td>-1.174820</td>\n",
       "      <td>0.130359</td>\n",
       "      <td>59.450441</td>\n",
       "    </tr>\n",
       "    <tr>\n",
       "      <th>50%</th>\n",
       "      <td>0.009424</td>\n",
       "      <td>-0.009482</td>\n",
       "      <td>2.484236</td>\n",
       "      <td>94.925613</td>\n",
       "    </tr>\n",
       "    <tr>\n",
       "      <th>75%</th>\n",
       "      <td>1.158535</td>\n",
       "      <td>1.163678</td>\n",
       "      <td>4.858794</td>\n",
       "      <td>130.595027</td>\n",
       "    </tr>\n",
       "    <tr>\n",
       "      <th>max</th>\n",
       "      <td>7.238262</td>\n",
       "      <td>7.844801</td>\n",
       "      <td>16.739402</td>\n",
       "      <td>190.029838</td>\n",
       "    </tr>\n",
       "  </tbody>\n",
       "</table>\n",
       "</div>"
      ],
      "text/plain": [
       "                  f0             f1             f2        product\n",
       "count  100000.000000  100000.000000  100000.000000  100000.000000\n",
       "mean        0.002023      -0.002081       2.495128      95.000000\n",
       "std         1.732045       1.730417       3.473445      44.749921\n",
       "min        -8.760004      -7.084020     -11.970335       0.000000\n",
       "25%        -1.162288      -1.174820       0.130359      59.450441\n",
       "50%         0.009424      -0.009482       2.484236      94.925613\n",
       "75%         1.158535       1.163678       4.858794     130.595027\n",
       "max         7.238262       7.844801      16.739402     190.029838"
      ]
     },
     "execution_count": 13,
     "metadata": {},
     "output_type": "execute_result"
    }
   ],
   "source": [
    "geo_2.describe()"
   ]
  },
  {
   "cell_type": "code",
   "execution_count": 14,
   "metadata": {},
   "outputs": [
    {
     "data": {
      "text/plain": [
       "0"
      ]
     },
     "execution_count": 14,
     "metadata": {},
     "output_type": "execute_result"
    }
   ],
   "source": [
    "geo_0.duplicated().sum()"
   ]
  },
  {
   "cell_type": "code",
   "execution_count": 15,
   "metadata": {},
   "outputs": [
    {
     "data": {
      "text/plain": [
       "0"
      ]
     },
     "execution_count": 15,
     "metadata": {},
     "output_type": "execute_result"
    }
   ],
   "source": [
    "geo_1.duplicated().sum()"
   ]
  },
  {
   "cell_type": "code",
   "execution_count": 16,
   "metadata": {},
   "outputs": [
    {
     "data": {
      "text/plain": [
       "0"
      ]
     },
     "execution_count": 16,
     "metadata": {},
     "output_type": "execute_result"
    }
   ],
   "source": [
    "geo_2.duplicated().sum()"
   ]
  },
  {
   "cell_type": "markdown",
   "metadata": {},
   "source": [
    "Los 3 dataset no tienen valores ausentes, tampoco duplicados y el formato de columnas y tipo de datos es el correcto.\n",
    "\n",
    "Las columnas `f0, f1, f2` que corresponden a características de la calidad del crudo varian de una región a otra, sin embargo dado que es la misma característica en cualquier región se entiende que es una métrica estandarizada, razón por la cual no vamos a estandarizar dichas columnas.\n",
    "\n",
    "Vamos a pasar la creación del modelo."
   ]
  },
  {
   "cell_type": "markdown",
   "metadata": {},
   "source": [
    "## Modelización de datos"
   ]
  },
  {
   "cell_type": "markdown",
   "metadata": {},
   "source": [
    "Debido a que tenemos 3 dataset con las mismas columnas, cada una para una región diferente, vamos a crear una función que automatice los procesos para predecir el volumen de reservas y la RMSE."
   ]
  },
  {
   "cell_type": "code",
   "execution_count": null,
   "metadata": {},
   "outputs": [],
   "source": [
    "def modela(df):\n",
    "    # divide las características y el objetivo\n",
    "    features = df.drop(['product', 'id'], axis=1)\n",
    "    target = df['product']\n",
    "\n",
    "    # segmenta el 25% de los datos para hacer el conjunto de validación\n",
    "    features_train, features_valid, target_train, target_valid = train_test_split(features, target, test_size=0.25,\n",
    "                                                                                  random_state=12345)\n",
    "    # crea el modelo de regresión lineal\n",
    "    model = LinearRegression()\n",
    "    model.fit(features_train, target_train)\n",
    "\n",
    "    # predice deacuerdo al modelo ajustado\n",
    "    predictions = model.predict(features)\n",
    "\n",
    "    return pd.Series(target), pd.Series(predictions)"
   ]
  },
  {
   "cell_type": "code",
   "execution_count": 18,
   "metadata": {},
   "outputs": [],
   "source": [
    "def imprimir(target, predictions):\n",
    "    # calcula el volumen medio de reservas predicho y la RMSE en el conjunto de validación\n",
    "    rmse = mean_squared_error(target, predictions) ** 0.5\n",
    "    print(\"RMSE:\", rmse, \", Volumen medio de reservas predichas\", predictions.mean())"
   ]
  },
  {
   "cell_type": "code",
   "execution_count": null,
   "metadata": {
    "scrolled": true
   },
   "outputs": [
    {
     "name": "stdout",
     "output_type": "stream",
     "text": [
      "RMSE: 37.69240596744535 , Volumen medio de reservas predichas 92.62849276088778\n"
     ]
    }
   ],
   "source": [
    "target_0, predict_0 = modela(geo_0)\n",
    "imprimir(target_0, predict_0)"
   ]
  },
  {
   "cell_type": "code",
   "execution_count": null,
   "metadata": {
    "scrolled": true
   },
   "outputs": [
    {
     "name": "stdout",
     "output_type": "stream",
     "text": [
      "RMSE: 0.8903802650297566 , Volumen medio de reservas predichas 68.82635271777153\n"
     ]
    }
   ],
   "source": [
    "target_1, predict_1 = modela(geo_1)\n",
    "imprimir(target_1, predict_1)"
   ]
  },
  {
   "cell_type": "code",
   "execution_count": null,
   "metadata": {
    "scrolled": true
   },
   "outputs": [
    {
     "name": "stdout",
     "output_type": "stream",
     "text": [
      "RMSE: 40.055624818752136 , Volumen medio de reservas predichas 95.02020328978764\n"
     ]
    }
   ],
   "source": [
    "target_2, predict_2 = modela(geo_2)\n",
    "imprimir(target_2, predict_2)"
   ]
  },
  {
   "cell_type": "markdown",
   "metadata": {},
   "source": [
    "Para la región geográfica 0 el volumen medio de reservas predichas es: `92.62849276088778`. Con un RMSE de: `37.69240596744535`.\n",
    "\n",
    "Para la región geográfica 1 el volumen medio de reservas predichas es: `68.82635271777151`. Con un RMSE de: `0.890380265029757`.\n",
    "\n",
    "Para la región geográfica 2 el volumen medio de reservas predichas es: `95.02020328978764`. Con un RMSE de: `40.055624818752136`.\n",
    "\n",
    "La región 0 y 2 tienen un RMSE mucho mayor que la región 1, lo que significa que hay una diferencia considerable entre las predicciones y el valor real. Caso que la región 1 no tiene tan marcado."
   ]
  },
  {
   "cell_type": "markdown",
   "metadata": {},
   "source": [
    "## Calculo de ganancias"
   ]
  },
  {
   "cell_type": "markdown",
   "metadata": {},
   "source": [
    "Pasemos a la métrica de investigación, la ganancia.\n",
    "\n",
    "Para este proyecto la petrolera va a invertir 100 millones de dolares para el desarrollo de 200 nuevos pozos, lo que quiere decir que la inversión promedio para cada pozo es de 500 mil dolares. Si no queremos perdidas el ingreso promedio para cada pozo debería ser de mínimo 500 mil dolares para que el beneficio o perdida fuera de 0.\n",
    "\n",
    "Pero ¿qué tendría que suceder para que un pozo generara 500 mil dolares?.\n",
    "El volumen de reservas representa la cantidad de barriles (miles) de cada pozo, cada barril genera 4.5 dolares, esto da 4500 dolares por cada un mil barriles.\n",
    "Entonces para generar 500 mil dolares con cada mil barriles de 4500 dolares, el promedio de los pozos debería tener 111.1 miles de barriles de petróleo.\n",
    "\n",
    "En síntesis para generar un margen de ganancia positivo el promedio de volumen de reservas debe ser mayor a 111.1 miles de barriles."
   ]
  },
  {
   "cell_type": "code",
   "execution_count": null,
   "metadata": {},
   "outputs": [],
   "source": [
    "inversion = 100000000\n",
    "no_pozos = 200\n",
    "costo_unidad = 4500\n",
    "\n",
    "# inversión promedio por cada pozo\n",
    "inv_pozo = inversion/no_pozos\n",
    "\n",
    "# volumen de reservas promedio minimmo para generar 500 mil dolares.\n",
    "vol_pozo = inv_pozo / costo_unidad"
   ]
  },
  {
   "cell_type": "code",
   "execution_count": 23,
   "metadata": {},
   "outputs": [
    {
     "data": {
      "text/plain": [
       "111.11111111111111"
      ]
     },
     "execution_count": 23,
     "metadata": {},
     "output_type": "execute_result"
    }
   ],
   "source": [
    "vol_pozo"
   ]
  },
  {
   "cell_type": "markdown",
   "metadata": {},
   "source": [
    "Tomando como referencia para que haya beneficios positivos el volumen medio de reservas debe ser mayor a 111.1.\n",
    "\n",
    "Si comparamos este referente con la media del volumen predicho de las 3 regiones, ninguna media de las regiones lo supera, por lo que vamos a necesitar otra estrategia mejor que la media para lograr el mejor beneficio posible.\n",
    "\n",
    "De cada región vamos a seleccionar los 200 pozos con los valores de predicción más altos, de los mejores pronósticos tomamos sus valores y lo multiplicamos por el costo de cada unidad de volumen de reservas y obtenemos el ingreso, a ese resultado le descontamos los costos, que son 100 millones. Si de la selección de los 200 pozos de cada región, su media fue mayor a 111.1 el beneficio va ser positivo."
   ]
  },
  {
   "cell_type": "code",
   "execution_count": null,
   "metadata": {},
   "outputs": [],
   "source": [
    "def beneficio(target, predictions, count):\n",
    "    pred_sorted = predictions.sort_values(ascending=False)\n",
    "    selected = target.reindex(index=pred_sorted.index[:count])\n",
    "\n",
    "    # beneficio en millones de dolares\n",
    "    return (selected.sum() * costo_unidad) - inversion"
   ]
  },
  {
   "cell_type": "code",
   "execution_count": 25,
   "metadata": {},
   "outputs": [
    {
     "data": {
      "text/plain": [
       "34941041.92112014"
      ]
     },
     "execution_count": 25,
     "metadata": {},
     "output_type": "execute_result"
    }
   ],
   "source": [
    "beneficio(target_0, predict_0, no_pozos)"
   ]
  },
  {
   "cell_type": "code",
   "execution_count": 26,
   "metadata": {},
   "outputs": [
    {
     "data": {
      "text/plain": [
       "24150866.966815114"
      ]
     },
     "execution_count": 26,
     "metadata": {},
     "output_type": "execute_result"
    }
   ],
   "source": [
    "beneficio(target_1, predict_1, no_pozos)"
   ]
  },
  {
   "cell_type": "code",
   "execution_count": 27,
   "metadata": {},
   "outputs": [
    {
     "data": {
      "text/plain": [
       "25714106.319609284"
      ]
     },
     "execution_count": 27,
     "metadata": {},
     "output_type": "execute_result"
    }
   ],
   "source": [
    "beneficio(target_2, predict_2, no_pozos)"
   ]
  },
  {
   "cell_type": "markdown",
   "metadata": {},
   "source": [
    "Evaluando el beneficio en un escenario hipotético donde nos guiaramos por los pozos con la mayor reserva disponible, eligiendo sus valores reales, la región 0 sería la apta para desarrollar los 200 pozos pretroleros ya que tuvo un beneficio de casi 35 millones, más beneficio que el generado por la región 1 y 2.\n",
    "\n",
    "Esta evaluación de beneficio es en el caso hipótetico donde nos guiaramos por los pronósticos más altos de toda la región, sin embargo esto no sucede en la realidad.\n",
    "\n",
    "Vamos a simular 1000 selecciones aleatorias donde vamos a elegir a los mejores 200 pozos de una submuestra de 500 pozos, calculamos el beneficio de esas 1000 simulaciones, obtenemos el beneficio media con un intervalo de confianza al 95 % y el % de pérdida.\n",
    "\n",
    "Vamos a analizar los resultados de las 3 regiones y elegiremos las regiones que tengan una perdida debajo de 2.5% y beneficio medio más alto."
   ]
  },
  {
   "cell_type": "code",
   "execution_count": null,
   "metadata": {
    "scrolled": true
   },
   "outputs": [],
   "source": [
    "def bootstrap(target, predict):\n",
    "    state = np.random.RandomState(12345)\n",
    "    n = 1000\n",
    "    values = []\n",
    "    size_sample = 500\n",
    "    count = 0\n",
    "\n",
    "    for i in range(n):\n",
    "        pred_sample = predict.sample(\n",
    "            n=size_sample, replace=True, random_state=state)\n",
    "        targ_sample = target.reindex(index=pred_sample.index)\n",
    "        pred_sample.reset_index(inplace=True, drop=True)\n",
    "        targ_sample.reset_index(inplace=True, drop=True)\n",
    "        benef = beneficio(targ_sample, pred_sample, no_pozos)\n",
    "        values.append(benef)\n",
    "        if benef < 0:\n",
    "            count += 1\n",
    "\n",
    "    # distribucion de los beneficios\n",
    "    values = pd.Series(values)\n",
    "\n",
    "    # beneficio promedio\n",
    "    mean = values.mean()\n",
    "\n",
    "    # intervalo de confianza del 95%\n",
    "    lower = values.quantile(0.025)\n",
    "    upper = values.quantile(0.975)\n",
    "\n",
    "    # riesgo de perdidas\n",
    "    loss = 100 * (count / n)\n",
    "\n",
    "    print(\"Ganancia promedio:\", mean)\n",
    "    print(\"Intervalo de confianza 95%:\", lower, '-', upper)\n",
    "    print(\"Riesgo de pérdidas:\", loss, '%')"
   ]
  },
  {
   "cell_type": "code",
   "execution_count": 29,
   "metadata": {},
   "outputs": [
    {
     "name": "stdout",
     "output_type": "stream",
     "text": [
      "Ganancia promedio: 4241497.51404505\n",
      "Intervalo de confianza 95%: -778569.2373488933 - 9685806.995986093\n",
      "Riesgo de pérdidas: 5.2 %\n"
     ]
    }
   ],
   "source": [
    " bootstrap(target_0, predict_0)"
   ]
  },
  {
   "cell_type": "code",
   "execution_count": 30,
   "metadata": {},
   "outputs": [
    {
     "name": "stdout",
     "output_type": "stream",
     "text": [
      "Ganancia promedio: 4487206.400344507\n",
      "Intervalo de confianza 95%: 374980.7453396168 - 8238299.202083874\n",
      "Riesgo de pérdidas: 1.4000000000000001 %\n"
     ]
    }
   ],
   "source": [
    " bootstrap(target_1, predict_1)"
   ]
  },
  {
   "cell_type": "code",
   "execution_count": 31,
   "metadata": {},
   "outputs": [
    {
     "name": "stdout",
     "output_type": "stream",
     "text": [
      "Ganancia promedio: 3739390.2198985177\n",
      "Intervalo de confianza 95%: -1819481.884471201 - 8962994.081008721\n",
      "Riesgo de pérdidas: 9.2 %\n"
     ]
    }
   ],
   "source": [
    " bootstrap(target_2, predict_2)"
   ]
  },
  {
   "cell_type": "markdown",
   "metadata": {},
   "source": [
    "Realizando una simulación para evaluar lo que puede pasar en un plano real, la región que se ajustó a las condiciones dadas es la región 1 cuyo riesgo de pérdida es de 1.4% y coincidentemente un beneficio mayor que las otras dos regiones de`4487206.4` con un intervalo de confianza del 95%.\n",
    "\n",
    "La selección de la región óptima en esta fase (región 1) no coincidió con el elegido considerando todos los pozos de la región donde se seleccionó la región 0."
   ]
  },
  {
   "cell_type": "markdown",
   "metadata": {},
   "source": [
    "## Conclusiones"
   ]
  },
  {
   "cell_type": "markdown",
   "metadata": {},
   "source": [
    "La selección de la región donde desarrollar los 200 pozos guiándonos por el cálculo de las ganancias considerando todos los pozos de la región (región 0 elegida) no coincidió con las ganancias promedio usando el método boostrap (región 1 elegida).\n",
    "\n",
    "Hacer uso de la técnica bootstrap nos ayudó a crear la distribución de las ganancias y con ello obtener la ganancia esperada en una situación real, a si solo nos basaramos en las mejores ganancias de cada región, porque pueden haber puntos atípicos que hagan que la selección se distorcione.\n",
    "\n",
    "En conclusión para la Petrolera OilyGiant se sugiere desarrollar los 200 pozos petroleros en la región 1 con un beneficio promedio de + 4 millones y un riesgo de pérdidas de 1.4%."
   ]
  }
 ],
 "metadata": {
  "ExecuteTimeLog": [
   {
    "duration": 5097,
    "start_time": "2024-08-18T01:20:56.893Z"
   },
   {
    "duration": 490,
    "start_time": "2024-08-18T01:22:17.474Z"
   },
   {
    "duration": 423,
    "start_time": "2024-08-18T01:22:59.555Z"
   },
   {
    "duration": 19,
    "start_time": "2024-08-18T01:23:11.603Z"
   },
   {
    "duration": 14,
    "start_time": "2024-08-18T01:23:57.843Z"
   },
   {
    "duration": 14,
    "start_time": "2024-08-18T01:24:06.282Z"
   },
   {
    "duration": 14,
    "start_time": "2024-08-18T01:24:09.582Z"
   },
   {
    "duration": 14,
    "start_time": "2024-08-18T01:24:10.888Z"
   },
   {
    "duration": 14,
    "start_time": "2024-08-18T01:24:12.186Z"
   },
   {
    "duration": 12,
    "start_time": "2024-08-18T01:24:44.005Z"
   },
   {
    "duration": 12,
    "start_time": "2024-08-18T01:24:46.130Z"
   },
   {
    "duration": 12,
    "start_time": "2024-08-18T01:24:47.405Z"
   },
   {
    "duration": 317,
    "start_time": "2024-08-18T02:49:11.378Z"
   },
   {
    "duration": 5036,
    "start_time": "2024-08-18T02:49:18.949Z"
   },
   {
    "duration": 5062,
    "start_time": "2024-08-18T03:55:17.115Z"
   },
   {
    "duration": 523,
    "start_time": "2024-08-18T04:02:44.251Z"
   },
   {
    "duration": 18,
    "start_time": "2024-08-18T04:02:54.854Z"
   },
   {
    "duration": 13,
    "start_time": "2024-08-18T04:03:07.247Z"
   },
   {
    "duration": 12,
    "start_time": "2024-08-18T04:03:18.548Z"
   },
   {
    "duration": 20,
    "start_time": "2024-08-18T04:07:52.885Z"
   },
   {
    "duration": 19,
    "start_time": "2024-08-18T04:08:40.755Z"
   },
   {
    "duration": 18,
    "start_time": "2024-08-18T04:09:30.527Z"
   },
   {
    "duration": 43,
    "start_time": "2024-08-18T04:14:27.727Z"
   },
   {
    "duration": 44,
    "start_time": "2024-08-18T04:14:35.401Z"
   },
   {
    "duration": 42,
    "start_time": "2024-08-18T04:37:41.138Z"
   },
   {
    "duration": 45,
    "start_time": "2024-08-18T04:37:52.736Z"
   },
   {
    "duration": 65,
    "start_time": "2024-08-18T04:41:22.420Z"
   },
   {
    "duration": 61,
    "start_time": "2024-08-18T04:42:43.765Z"
   },
   {
    "duration": 59,
    "start_time": "2024-08-18T04:42:54.007Z"
   },
   {
    "duration": 5011,
    "start_time": "2024-08-21T04:50:01.621Z"
   },
   {
    "duration": 467,
    "start_time": "2024-08-21T04:50:20.094Z"
   },
   {
    "duration": 18,
    "start_time": "2024-08-21T05:04:16.374Z"
   },
   {
    "duration": 12,
    "start_time": "2024-08-21T05:04:22.066Z"
   },
   {
    "duration": 13,
    "start_time": "2024-08-21T05:04:24.602Z"
   },
   {
    "duration": 19,
    "start_time": "2024-08-21T05:04:56.394Z"
   },
   {
    "duration": 17,
    "start_time": "2024-08-21T05:05:05.180Z"
   },
   {
    "duration": 18,
    "start_time": "2024-08-21T05:05:09.349Z"
   },
   {
    "duration": 45,
    "start_time": "2024-08-21T05:05:28.533Z"
   },
   {
    "duration": 45,
    "start_time": "2024-08-21T05:06:06.577Z"
   },
   {
    "duration": 40,
    "start_time": "2024-08-21T05:10:22.075Z"
   },
   {
    "duration": 58,
    "start_time": "2024-08-21T05:12:50.828Z"
   },
   {
    "duration": 56,
    "start_time": "2024-08-21T05:12:53.105Z"
   },
   {
    "duration": 67,
    "start_time": "2024-08-21T05:12:56.015Z"
   },
   {
    "duration": 13,
    "start_time": "2024-08-21T05:22:42.332Z"
   },
   {
    "duration": 8,
    "start_time": "2024-08-21T05:23:08.502Z"
   },
   {
    "duration": 15,
    "start_time": "2024-08-21T05:23:26.197Z"
   },
   {
    "duration": 17,
    "start_time": "2024-08-21T05:23:31.364Z"
   },
   {
    "duration": 5,
    "start_time": "2024-08-21T05:23:40.248Z"
   },
   {
    "duration": 14,
    "start_time": "2024-08-21T05:23:43.431Z"
   },
   {
    "duration": 14,
    "start_time": "2024-08-21T05:23:49.410Z"
   },
   {
    "duration": 14,
    "start_time": "2024-08-21T05:24:00.074Z"
   },
   {
    "duration": 14,
    "start_time": "2024-08-21T05:24:15.519Z"
   },
   {
    "duration": 8,
    "start_time": "2024-08-21T05:24:48.460Z"
   },
   {
    "duration": 399,
    "start_time": "2024-08-21T05:24:51.686Z"
   },
   {
    "duration": 25,
    "start_time": "2024-08-21T05:25:18.226Z"
   },
   {
    "duration": 26,
    "start_time": "2024-08-21T05:25:34.805Z"
   },
   {
    "duration": 11,
    "start_time": "2024-08-21T05:26:43.744Z"
   },
   {
    "duration": 14,
    "start_time": "2024-08-21T05:26:57.124Z"
   },
   {
    "duration": 11,
    "start_time": "2024-08-21T05:27:56.048Z"
   },
   {
    "duration": 13,
    "start_time": "2024-08-21T05:28:21.517Z"
   },
   {
    "duration": 7,
    "start_time": "2024-08-21T06:07:23.197Z"
   },
   {
    "duration": 97,
    "start_time": "2024-08-21T06:07:43.916Z"
   },
   {
    "duration": 98,
    "start_time": "2024-08-21T06:08:46.170Z"
   },
   {
    "duration": 27,
    "start_time": "2024-08-21T06:09:42.228Z"
   },
   {
    "duration": 7,
    "start_time": "2024-08-21T06:09:46.294Z"
   },
   {
    "duration": 6,
    "start_time": "2024-08-21T06:10:08.291Z"
   },
   {
    "duration": 8,
    "start_time": "2024-08-21T06:11:33.837Z"
   },
   {
    "duration": 7,
    "start_time": "2024-08-21T06:11:43.784Z"
   },
   {
    "duration": 7,
    "start_time": "2024-08-21T06:11:50.380Z"
   },
   {
    "duration": 7,
    "start_time": "2024-08-21T06:11:56.933Z"
   },
   {
    "duration": 6,
    "start_time": "2024-08-21T06:12:02.112Z"
   },
   {
    "duration": 6,
    "start_time": "2024-08-21T06:12:10.219Z"
   },
   {
    "duration": 7,
    "start_time": "2024-08-21T06:14:15.086Z"
   },
   {
    "duration": 7,
    "start_time": "2024-08-21T06:14:26.571Z"
   },
   {
    "duration": 7,
    "start_time": "2024-08-21T06:16:55.678Z"
   },
   {
    "duration": 6,
    "start_time": "2024-08-21T06:17:00.865Z"
   },
   {
    "duration": 6,
    "start_time": "2024-08-21T06:17:04.843Z"
   },
   {
    "duration": 6,
    "start_time": "2024-08-21T06:17:11.235Z"
   },
   {
    "duration": 6,
    "start_time": "2024-08-21T06:18:09.384Z"
   },
   {
    "duration": 6,
    "start_time": "2024-08-21T06:18:24.617Z"
   },
   {
    "duration": 6,
    "start_time": "2024-08-21T06:18:40.858Z"
   },
   {
    "duration": 5,
    "start_time": "2024-08-21T06:20:08.924Z"
   },
   {
    "duration": 28,
    "start_time": "2024-08-21T06:20:22.504Z"
   },
   {
    "duration": 32,
    "start_time": "2024-08-21T06:20:42.388Z"
   },
   {
    "duration": 32,
    "start_time": "2024-08-21T06:20:45.840Z"
   },
   {
    "duration": 7,
    "start_time": "2024-08-21T06:22:01.289Z"
   },
   {
    "duration": 28,
    "start_time": "2024-08-21T06:22:02.917Z"
   },
   {
    "duration": 31,
    "start_time": "2024-08-21T06:22:05.083Z"
   },
   {
    "duration": 31,
    "start_time": "2024-08-21T06:22:06.613Z"
   },
   {
    "duration": 6,
    "start_time": "2024-08-21T06:22:18.783Z"
   },
   {
    "duration": 29,
    "start_time": "2024-08-21T06:22:20.239Z"
   },
   {
    "duration": 8,
    "start_time": "2024-08-21T06:22:25.003Z"
   },
   {
    "duration": 6,
    "start_time": "2024-08-21T06:22:26.431Z"
   },
   {
    "duration": 32,
    "start_time": "2024-08-21T06:22:28.363Z"
   },
   {
    "duration": 30,
    "start_time": "2024-08-21T06:22:29.865Z"
   },
   {
    "duration": 30,
    "start_time": "2024-08-21T06:22:31.504Z"
   },
   {
    "duration": 4,
    "start_time": "2024-08-21T06:24:43.070Z"
   },
   {
    "duration": 6,
    "start_time": "2024-08-21T06:24:52.748Z"
   },
   {
    "duration": 5,
    "start_time": "2024-08-21T06:25:47.592Z"
   },
   {
    "duration": 5,
    "start_time": "2024-08-21T06:27:29.208Z"
   },
   {
    "duration": 6,
    "start_time": "2024-08-21T06:27:35.889Z"
   },
   {
    "duration": 9,
    "start_time": "2024-08-22T05:30:12.070Z"
   },
   {
    "duration": 8,
    "start_time": "2024-08-22T05:30:15.835Z"
   },
   {
    "duration": 296,
    "start_time": "2024-08-22T05:30:19.973Z"
   },
   {
    "duration": 3,
    "start_time": "2024-08-22T05:30:26.247Z"
   },
   {
    "duration": 9,
    "start_time": "2024-08-22T05:30:42.007Z"
   },
   {
    "duration": 4,
    "start_time": "2024-08-22T05:52:36.249Z"
   },
   {
    "duration": 7,
    "start_time": "2024-08-22T05:52:43.391Z"
   },
   {
    "duration": 4,
    "start_time": "2024-08-22T05:53:30.635Z"
   },
   {
    "duration": 4,
    "start_time": "2024-08-22T05:55:15.018Z"
   },
   {
    "duration": 8,
    "start_time": "2024-08-22T05:55:20.571Z"
   },
   {
    "duration": 4,
    "start_time": "2024-08-22T06:11:05.203Z"
   },
   {
    "duration": 5,
    "start_time": "2024-08-22T06:11:07.479Z"
   },
   {
    "duration": 5,
    "start_time": "2024-08-22T07:04:52.500Z"
   },
   {
    "duration": 5024,
    "start_time": "2024-08-22T07:14:50.015Z"
   },
   {
    "duration": 480,
    "start_time": "2024-08-22T07:14:56.694Z"
   },
   {
    "duration": 16,
    "start_time": "2024-08-22T07:15:03.100Z"
   },
   {
    "duration": 12,
    "start_time": "2024-08-22T07:15:04.455Z"
   },
   {
    "duration": 12,
    "start_time": "2024-08-22T07:15:08.339Z"
   },
   {
    "duration": 19,
    "start_time": "2024-08-22T07:15:11.651Z"
   },
   {
    "duration": 21,
    "start_time": "2024-08-22T07:15:14.803Z"
   },
   {
    "duration": 18,
    "start_time": "2024-08-22T07:15:17.283Z"
   },
   {
    "duration": 42,
    "start_time": "2024-08-22T07:15:20.269Z"
   },
   {
    "duration": 41,
    "start_time": "2024-08-22T07:15:37.631Z"
   },
   {
    "duration": 39,
    "start_time": "2024-08-22T07:15:45.350Z"
   },
   {
    "duration": 56,
    "start_time": "2024-08-22T07:15:49.044Z"
   },
   {
    "duration": 56,
    "start_time": "2024-08-22T07:15:49.912Z"
   },
   {
    "duration": 54,
    "start_time": "2024-08-22T07:15:50.783Z"
   },
   {
    "duration": 5,
    "start_time": "2024-08-22T07:17:06.834Z"
   },
   {
    "duration": 4,
    "start_time": "2024-08-22T07:17:16.582Z"
   },
   {
    "duration": 573,
    "start_time": "2024-08-22T07:17:49.978Z"
   },
   {
    "duration": 30,
    "start_time": "2024-08-22T07:23:44.627Z"
   },
   {
    "duration": 29,
    "start_time": "2024-08-22T07:24:34.273Z"
   },
   {
    "duration": 24,
    "start_time": "2024-08-22T07:25:02.530Z"
   },
   {
    "duration": 4,
    "start_time": "2024-08-22T07:26:04.554Z"
   },
   {
    "duration": 5,
    "start_time": "2024-08-22T07:26:30.177Z"
   },
   {
    "duration": 4,
    "start_time": "2024-08-22T07:27:21.617Z"
   },
   {
    "duration": 34,
    "start_time": "2024-08-22T07:28:00.840Z"
   },
   {
    "duration": 5011,
    "start_time": "2024-08-23T02:42:18.890Z"
   },
   {
    "duration": 481,
    "start_time": "2024-08-23T02:42:24.819Z"
   },
   {
    "duration": 17,
    "start_time": "2024-08-23T02:42:30.469Z"
   },
   {
    "duration": 14,
    "start_time": "2024-08-23T02:42:31.995Z"
   },
   {
    "duration": 12,
    "start_time": "2024-08-23T02:42:34.869Z"
   },
   {
    "duration": 21,
    "start_time": "2024-08-23T02:42:36.223Z"
   },
   {
    "duration": 18,
    "start_time": "2024-08-23T02:42:38.992Z"
   },
   {
    "duration": 18,
    "start_time": "2024-08-23T02:42:42.408Z"
   },
   {
    "duration": 43,
    "start_time": "2024-08-23T02:42:45.400Z"
   },
   {
    "duration": 40,
    "start_time": "2024-08-23T02:42:49.283Z"
   },
   {
    "duration": 41,
    "start_time": "2024-08-23T02:42:51.906Z"
   },
   {
    "duration": 57,
    "start_time": "2024-08-23T02:42:55.282Z"
   },
   {
    "duration": 54,
    "start_time": "2024-08-23T02:42:57.110Z"
   },
   {
    "duration": 58,
    "start_time": "2024-08-23T02:42:58.349Z"
   },
   {
    "duration": 5,
    "start_time": "2024-08-23T02:50:23.021Z"
   },
   {
    "duration": 5,
    "start_time": "2024-08-23T02:50:29.431Z"
   },
   {
    "duration": 29,
    "start_time": "2024-08-23T02:50:34.313Z"
   },
   {
    "duration": 28,
    "start_time": "2024-08-23T02:50:37.190Z"
   },
   {
    "duration": 29,
    "start_time": "2024-08-23T02:50:38.949Z"
   },
   {
    "duration": 4,
    "start_time": "2024-08-23T02:51:54.541Z"
   },
   {
    "duration": 6,
    "start_time": "2024-08-23T02:51:56.477Z"
   },
   {
    "duration": 405,
    "start_time": "2024-08-23T02:56:01.774Z"
   },
   {
    "duration": 6,
    "start_time": "2024-08-23T02:56:15.127Z"
   },
   {
    "duration": 8,
    "start_time": "2024-08-23T02:57:57.106Z"
   },
   {
    "duration": 5,
    "start_time": "2024-08-23T02:58:05.814Z"
   },
   {
    "duration": 5,
    "start_time": "2024-08-23T02:58:45.303Z"
   },
   {
    "duration": 34,
    "start_time": "2024-08-23T02:58:51.585Z"
   },
   {
    "duration": 26,
    "start_time": "2024-08-23T02:58:53.935Z"
   },
   {
    "duration": 26,
    "start_time": "2024-08-23T02:58:55.740Z"
   },
   {
    "duration": 8,
    "start_time": "2024-08-23T02:59:19.771Z"
   },
   {
    "duration": 7,
    "start_time": "2024-08-23T02:59:22.191Z"
   },
   {
    "duration": 8,
    "start_time": "2024-08-23T02:59:29.160Z"
   },
   {
    "duration": 7,
    "start_time": "2024-08-23T02:59:31.111Z"
   },
   {
    "duration": 8,
    "start_time": "2024-08-23T02:59:41.780Z"
   },
   {
    "duration": 7,
    "start_time": "2024-08-23T03:01:31.790Z"
   },
   {
    "duration": 4,
    "start_time": "2024-08-23T03:10:38.277Z"
   },
   {
    "duration": 11,
    "start_time": "2024-08-23T03:10:40.212Z"
   },
   {
    "duration": 10,
    "start_time": "2024-08-23T03:17:48.183Z"
   },
   {
    "duration": 5,
    "start_time": "2024-08-23T03:18:23.452Z"
   },
   {
    "duration": 10,
    "start_time": "2024-08-23T03:18:27.106Z"
   },
   {
    "duration": 10,
    "start_time": "2024-08-23T03:18:28.557Z"
   },
   {
    "duration": 10,
    "start_time": "2024-08-23T03:18:29.323Z"
   },
   {
    "duration": 4,
    "start_time": "2024-08-23T03:35:23.414Z"
   },
   {
    "duration": 10,
    "start_time": "2024-08-23T03:35:25.544Z"
   },
   {
    "duration": 10,
    "start_time": "2024-08-23T03:35:28.856Z"
   },
   {
    "duration": 4,
    "start_time": "2024-08-23T03:35:42.902Z"
   },
   {
    "duration": 11,
    "start_time": "2024-08-23T03:35:45.890Z"
   },
   {
    "duration": 10,
    "start_time": "2024-08-23T03:35:51.282Z"
   },
   {
    "duration": 11,
    "start_time": "2024-08-23T03:35:53.788Z"
   },
   {
    "duration": 10,
    "start_time": "2024-08-23T03:35:56.139Z"
   },
   {
    "duration": 4,
    "start_time": "2024-08-23T03:40:48.587Z"
   },
   {
    "duration": 10,
    "start_time": "2024-08-23T03:40:50.042Z"
   },
   {
    "duration": 3,
    "start_time": "2024-08-23T03:41:02.347Z"
   },
   {
    "duration": 10,
    "start_time": "2024-08-23T03:41:04.478Z"
   },
   {
    "duration": 10,
    "start_time": "2024-08-23T03:46:33.455Z"
   },
   {
    "duration": 9,
    "start_time": "2024-08-23T03:46:35.382Z"
   },
   {
    "duration": 10,
    "start_time": "2024-08-23T03:46:40.718Z"
   },
   {
    "duration": 5,
    "start_time": "2024-08-23T03:51:06.057Z"
   },
   {
    "duration": 11,
    "start_time": "2024-08-23T03:51:08.333Z"
   },
   {
    "duration": 12,
    "start_time": "2024-08-23T03:51:10.452Z"
   },
   {
    "duration": 12,
    "start_time": "2024-08-23T03:51:12.261Z"
   },
   {
    "duration": 4,
    "start_time": "2024-08-23T03:52:18.910Z"
   },
   {
    "duration": 4,
    "start_time": "2024-08-23T03:52:30.640Z"
   },
   {
    "duration": 9,
    "start_time": "2024-08-23T03:52:37.799Z"
   },
   {
    "duration": 10,
    "start_time": "2024-08-23T03:52:40.638Z"
   },
   {
    "duration": 10,
    "start_time": "2024-08-23T03:52:43.667Z"
   },
   {
    "duration": 509,
    "start_time": "2024-08-23T06:12:45.362Z"
   },
   {
    "duration": 497,
    "start_time": "2024-08-23T06:15:07.645Z"
   },
   {
    "duration": 276,
    "start_time": "2024-08-23T06:15:31.478Z"
   },
   {
    "duration": 4,
    "start_time": "2024-08-23T06:17:50.043Z"
   },
   {
    "duration": 10,
    "start_time": "2024-08-23T06:17:51.954Z"
   },
   {
    "duration": 10,
    "start_time": "2024-08-23T06:17:53.730Z"
   },
   {
    "duration": 10,
    "start_time": "2024-08-23T06:17:55.813Z"
   },
   {
    "duration": 511,
    "start_time": "2024-08-23T06:18:12.946Z"
   },
   {
    "duration": 275,
    "start_time": "2024-08-23T06:22:04.953Z"
   },
   {
    "duration": 256,
    "start_time": "2024-08-23T06:22:45.122Z"
   },
   {
    "duration": 497,
    "start_time": "2024-08-23T06:23:18.505Z"
   },
   {
    "duration": 7,
    "start_time": "2024-08-23T06:29:11.464Z"
   },
   {
    "duration": 8,
    "start_time": "2024-08-23T06:29:27.848Z"
   },
   {
    "duration": 520,
    "start_time": "2024-08-23T06:36:37.619Z"
   },
   {
    "duration": 499,
    "start_time": "2024-08-23T06:36:48.757Z"
   },
   {
    "duration": 501,
    "start_time": "2024-08-23T06:37:14.386Z"
   },
   {
    "duration": 8,
    "start_time": "2024-08-23T06:40:09.879Z"
   },
   {
    "duration": 497,
    "start_time": "2024-08-23T06:41:12.439Z"
   },
   {
    "duration": 495,
    "start_time": "2024-08-23T06:41:15.428Z"
   },
   {
    "duration": 492,
    "start_time": "2024-08-23T06:41:18.157Z"
   },
   {
    "duration": 6,
    "start_time": "2024-08-23T06:59:38.393Z"
   },
   {
    "duration": 490,
    "start_time": "2024-08-23T06:59:42.746Z"
   },
   {
    "duration": 496,
    "start_time": "2024-08-23T06:59:45.820Z"
   },
   {
    "duration": 514,
    "start_time": "2024-08-23T06:59:49.232Z"
   },
   {
    "duration": 7,
    "start_time": "2024-08-23T07:05:19.885Z"
   },
   {
    "duration": 512,
    "start_time": "2024-08-23T07:05:25.323Z"
   },
   {
    "duration": 488,
    "start_time": "2024-08-23T07:05:28.286Z"
   },
   {
    "duration": 495,
    "start_time": "2024-08-23T07:05:31.601Z"
   },
   {
    "duration": 1342,
    "start_time": "2024-08-23T07:51:45.849Z"
   },
   {
    "duration": 398,
    "start_time": "2024-08-23T07:51:47.195Z"
   },
   {
    "duration": 18,
    "start_time": "2024-08-23T07:51:47.595Z"
   },
   {
    "duration": 12,
    "start_time": "2024-08-23T07:51:47.625Z"
   },
   {
    "duration": 12,
    "start_time": "2024-08-23T07:51:47.640Z"
   },
   {
    "duration": 20,
    "start_time": "2024-08-23T07:51:47.655Z"
   },
   {
    "duration": 53,
    "start_time": "2024-08-23T07:51:47.678Z"
   },
   {
    "duration": 18,
    "start_time": "2024-08-23T07:51:47.735Z"
   },
   {
    "duration": 73,
    "start_time": "2024-08-23T07:51:47.757Z"
   },
   {
    "duration": 41,
    "start_time": "2024-08-23T07:51:47.836Z"
   },
   {
    "duration": 65,
    "start_time": "2024-08-23T07:51:47.880Z"
   },
   {
    "duration": 74,
    "start_time": "2024-08-23T07:51:47.948Z"
   },
   {
    "duration": 52,
    "start_time": "2024-08-23T07:51:48.025Z"
   },
   {
    "duration": 80,
    "start_time": "2024-08-23T07:51:48.080Z"
   },
   {
    "duration": 7,
    "start_time": "2024-08-23T07:51:48.162Z"
   },
   {
    "duration": 6,
    "start_time": "2024-08-23T07:51:48.172Z"
   },
   {
    "duration": 52,
    "start_time": "2024-08-23T07:51:48.181Z"
   },
   {
    "duration": 96,
    "start_time": "2024-08-23T07:51:48.235Z"
   },
   {
    "duration": 105,
    "start_time": "2024-08-23T07:51:48.334Z"
   },
   {
    "duration": 80,
    "start_time": "2024-08-23T07:51:48.442Z"
   },
   {
    "duration": 6,
    "start_time": "2024-08-23T07:51:48.525Z"
   },
   {
    "duration": 7,
    "start_time": "2024-08-23T07:51:48.534Z"
   },
   {
    "duration": 85,
    "start_time": "2024-08-23T07:51:48.545Z"
   },
   {
    "duration": 10,
    "start_time": "2024-08-23T07:51:48.633Z"
   },
   {
    "duration": 9,
    "start_time": "2024-08-23T07:51:48.646Z"
   },
   {
    "duration": 9,
    "start_time": "2024-08-23T07:51:48.658Z"
   },
   {
    "duration": 544,
    "start_time": "2024-08-23T07:51:48.671Z"
   },
   {
    "duration": 510,
    "start_time": "2024-08-23T07:51:49.227Z"
   },
   {
    "duration": 502,
    "start_time": "2024-08-23T07:51:49.740Z"
   },
   {
    "duration": 4949,
    "start_time": "2024-08-26T04:53:14.685Z"
   },
   {
    "duration": 489,
    "start_time": "2024-08-26T04:53:19.638Z"
   },
   {
    "duration": 17,
    "start_time": "2024-08-26T04:53:20.130Z"
   },
   {
    "duration": 14,
    "start_time": "2024-08-26T04:53:20.149Z"
   },
   {
    "duration": 40,
    "start_time": "2024-08-26T04:53:20.168Z"
   },
   {
    "duration": 20,
    "start_time": "2024-08-26T04:53:20.211Z"
   },
   {
    "duration": 19,
    "start_time": "2024-08-26T04:53:20.233Z"
   },
   {
    "duration": 54,
    "start_time": "2024-08-26T04:53:20.255Z"
   },
   {
    "duration": 46,
    "start_time": "2024-08-26T04:53:20.312Z"
   },
   {
    "duration": 65,
    "start_time": "2024-08-26T04:53:20.361Z"
   },
   {
    "duration": 41,
    "start_time": "2024-08-26T04:53:20.429Z"
   },
   {
    "duration": 78,
    "start_time": "2024-08-26T04:53:20.473Z"
   },
   {
    "duration": 76,
    "start_time": "2024-08-26T04:53:20.554Z"
   },
   {
    "duration": 58,
    "start_time": "2024-08-26T04:53:20.635Z"
   },
   {
    "duration": 5,
    "start_time": "2024-08-26T04:53:20.709Z"
   },
   {
    "duration": 5,
    "start_time": "2024-08-26T04:53:20.717Z"
   },
   {
    "duration": 29,
    "start_time": "2024-08-26T04:53:20.725Z"
   },
   {
    "duration": 153,
    "start_time": "2024-08-26T04:53:20.757Z"
   },
   {
    "duration": 106,
    "start_time": "2024-08-26T04:53:20.912Z"
   },
   {
    "duration": 4,
    "start_time": "2024-08-26T04:53:21.021Z"
   },
   {
    "duration": 5,
    "start_time": "2024-08-26T04:53:21.029Z"
   },
   {
    "duration": 73,
    "start_time": "2024-08-26T04:53:21.037Z"
   },
   {
    "duration": 544,
    "start_time": "2024-08-26T04:53:21.119Z"
   },
   {
    "duration": 0,
    "start_time": "2024-08-26T04:53:21.665Z"
   },
   {
    "duration": 0,
    "start_time": "2024-08-26T04:53:21.667Z"
   },
   {
    "duration": 0,
    "start_time": "2024-08-26T04:53:21.669Z"
   },
   {
    "duration": 0,
    "start_time": "2024-08-26T04:53:21.671Z"
   },
   {
    "duration": 0,
    "start_time": "2024-08-26T04:53:21.672Z"
   },
   {
    "duration": 0,
    "start_time": "2024-08-26T04:53:21.674Z"
   },
   {
    "duration": 500,
    "start_time": "2024-08-26T04:57:39.430Z"
   },
   {
    "duration": 6,
    "start_time": "2024-08-26T04:58:10.645Z"
   },
   {
    "duration": 4,
    "start_time": "2024-08-26T04:58:25.710Z"
   },
   {
    "duration": 116,
    "start_time": "2024-08-26T04:58:27.896Z"
   },
   {
    "duration": 5,
    "start_time": "2024-08-26T04:59:21.069Z"
   },
   {
    "duration": 111,
    "start_time": "2024-08-26T04:59:49.164Z"
   },
   {
    "duration": 25,
    "start_time": "2024-08-26T05:01:59.094Z"
   },
   {
    "duration": 26,
    "start_time": "2024-08-26T05:02:40.908Z"
   },
   {
    "duration": 24,
    "start_time": "2024-08-26T05:02:44.017Z"
   },
   {
    "duration": 30,
    "start_time": "2024-08-26T05:03:07.854Z"
   },
   {
    "duration": 26,
    "start_time": "2024-08-26T05:03:13.190Z"
   },
   {
    "duration": 28,
    "start_time": "2024-08-26T05:03:13.993Z"
   },
   {
    "duration": 103,
    "start_time": "2024-08-26T05:03:37.081Z"
   },
   {
    "duration": 141,
    "start_time": "2024-08-26T05:05:18.099Z"
   },
   {
    "duration": 119,
    "start_time": "2024-08-26T05:06:07.819Z"
   },
   {
    "duration": 121,
    "start_time": "2024-08-26T05:06:21.778Z"
   },
   {
    "duration": 101,
    "start_time": "2024-08-26T05:08:01.429Z"
   },
   {
    "duration": 99,
    "start_time": "2024-08-26T05:08:38.592Z"
   },
   {
    "duration": 102,
    "start_time": "2024-08-26T05:11:28.154Z"
   },
   {
    "duration": 103,
    "start_time": "2024-08-26T05:11:51.284Z"
   },
   {
    "duration": 102,
    "start_time": "2024-08-26T05:14:58.995Z"
   },
   {
    "duration": 101,
    "start_time": "2024-08-26T05:15:17.568Z"
   },
   {
    "duration": 181,
    "start_time": "2024-08-26T05:15:26.784Z"
   },
   {
    "duration": 101,
    "start_time": "2024-08-26T05:16:23.412Z"
   },
   {
    "duration": 101,
    "start_time": "2024-08-26T05:18:08.315Z"
   },
   {
    "duration": 12,
    "start_time": "2024-08-26T05:18:14.539Z"
   },
   {
    "duration": 29,
    "start_time": "2024-08-26T05:21:36.133Z"
   },
   {
    "duration": 5,
    "start_time": "2024-08-26T05:21:40.691Z"
   },
   {
    "duration": 5,
    "start_time": "2024-08-26T05:21:43.175Z"
   },
   {
    "duration": 28,
    "start_time": "2024-08-26T05:21:44.414Z"
   },
   {
    "duration": 10,
    "start_time": "2024-08-26T05:21:52.782Z"
   },
   {
    "duration": 9,
    "start_time": "2024-08-26T05:22:17.251Z"
   },
   {
    "duration": 9,
    "start_time": "2024-08-26T05:23:36.480Z"
   },
   {
    "duration": 14,
    "start_time": "2024-08-26T05:24:07.349Z"
   },
   {
    "duration": 12,
    "start_time": "2024-08-26T05:25:31.271Z"
   },
   {
    "duration": 105,
    "start_time": "2024-08-26T05:27:33.316Z"
   },
   {
    "duration": 28,
    "start_time": "2024-08-26T05:31:49.179Z"
   },
   {
    "duration": 11,
    "start_time": "2024-08-26T05:32:15.663Z"
   },
   {
    "duration": 31,
    "start_time": "2024-08-26T05:33:06.426Z"
   },
   {
    "duration": 102,
    "start_time": "2024-08-26T05:33:28.017Z"
   },
   {
    "duration": 102,
    "start_time": "2024-08-26T05:33:35.040Z"
   },
   {
    "duration": 103,
    "start_time": "2024-08-26T05:33:46.260Z"
   },
   {
    "duration": 8,
    "start_time": "2024-08-26T05:35:16.029Z"
   },
   {
    "duration": 109,
    "start_time": "2024-08-26T05:35:56.987Z"
   },
   {
    "duration": 8,
    "start_time": "2024-08-26T05:36:15.426Z"
   },
   {
    "duration": 100,
    "start_time": "2024-08-26T05:37:24.018Z"
   },
   {
    "duration": 115,
    "start_time": "2024-08-26T05:37:37.314Z"
   },
   {
    "duration": 100,
    "start_time": "2024-08-26T05:38:38.887Z"
   },
   {
    "duration": 101,
    "start_time": "2024-08-26T05:39:02.439Z"
   },
   {
    "duration": 101,
    "start_time": "2024-08-26T05:53:13.316Z"
   },
   {
    "duration": 10,
    "start_time": "2024-08-26T05:53:21.507Z"
   },
   {
    "duration": 100,
    "start_time": "2024-08-26T05:53:51.201Z"
   },
   {
    "duration": 10,
    "start_time": "2024-08-26T05:56:06.910Z"
   },
   {
    "duration": 105,
    "start_time": "2024-08-26T05:57:53.041Z"
   },
   {
    "duration": 28,
    "start_time": "2024-08-26T06:03:06.720Z"
   },
   {
    "duration": 10,
    "start_time": "2024-08-26T06:03:22.436Z"
   },
   {
    "duration": 10,
    "start_time": "2024-08-26T06:03:46.175Z"
   },
   {
    "duration": 8,
    "start_time": "2024-08-26T06:08:11.329Z"
   },
   {
    "duration": 5,
    "start_time": "2024-08-26T06:09:26.841Z"
   },
   {
    "duration": 11,
    "start_time": "2024-08-26T06:09:31.140Z"
   },
   {
    "duration": 10,
    "start_time": "2024-08-26T06:09:32.696Z"
   },
   {
    "duration": 18,
    "start_time": "2024-08-26T06:09:34.804Z"
   },
   {
    "duration": 8,
    "start_time": "2024-08-26T06:09:55.329Z"
   },
   {
    "duration": 8,
    "start_time": "2024-08-26T06:09:56.294Z"
   },
   {
    "duration": 4,
    "start_time": "2024-08-26T06:09:59.067Z"
   },
   {
    "duration": 4,
    "start_time": "2024-08-26T06:10:21.983Z"
   },
   {
    "duration": 10,
    "start_time": "2024-08-26T06:10:31.295Z"
   },
   {
    "duration": 10,
    "start_time": "2024-08-26T06:10:32.794Z"
   },
   {
    "duration": 10,
    "start_time": "2024-08-26T06:10:34.176Z"
   },
   {
    "duration": 7,
    "start_time": "2024-08-26T06:40:07.430Z"
   },
   {
    "duration": 1229,
    "start_time": "2024-08-26T06:40:10.054Z"
   },
   {
    "duration": 4,
    "start_time": "2024-08-26T06:40:53.293Z"
   },
   {
    "duration": 8,
    "start_time": "2024-08-26T06:41:00.124Z"
   },
   {
    "duration": 114,
    "start_time": "2024-08-26T06:41:02.658Z"
   },
   {
    "duration": 7,
    "start_time": "2024-08-26T06:42:30.729Z"
   },
   {
    "duration": 42,
    "start_time": "2024-08-26T06:42:33.015Z"
   },
   {
    "duration": 7,
    "start_time": "2024-08-26T06:42:50.434Z"
   },
   {
    "duration": 113,
    "start_time": "2024-08-26T06:42:52.984Z"
   },
   {
    "duration": 7,
    "start_time": "2024-08-26T06:43:56.313Z"
   },
   {
    "duration": 114,
    "start_time": "2024-08-26T06:43:58.724Z"
   },
   {
    "duration": 7,
    "start_time": "2024-08-26T06:46:14.489Z"
   },
   {
    "duration": 115,
    "start_time": "2024-08-26T06:46:29.069Z"
   },
   {
    "duration": 7,
    "start_time": "2024-08-26T06:48:12.054Z"
   },
   {
    "duration": 132,
    "start_time": "2024-08-26T06:48:14.481Z"
   },
   {
    "duration": 112,
    "start_time": "2024-08-26T06:48:16.073Z"
   },
   {
    "duration": 110,
    "start_time": "2024-08-26T06:48:19.735Z"
   },
   {
    "duration": 7,
    "start_time": "2024-08-26T06:50:27.597Z"
   },
   {
    "duration": 116,
    "start_time": "2024-08-26T06:50:30.007Z"
   },
   {
    "duration": 8,
    "start_time": "2024-08-26T06:51:46.669Z"
   },
   {
    "duration": 122,
    "start_time": "2024-08-26T06:51:50.096Z"
   },
   {
    "duration": 2565,
    "start_time": "2024-08-26T21:07:14.870Z"
   },
   {
    "duration": 336,
    "start_time": "2024-08-26T21:07:22.365Z"
   },
   {
    "duration": 10,
    "start_time": "2024-08-26T21:07:31.152Z"
   },
   {
    "duration": 7,
    "start_time": "2024-08-26T21:07:34.747Z"
   },
   {
    "duration": 7,
    "start_time": "2024-08-26T21:07:42.724Z"
   },
   {
    "duration": 12,
    "start_time": "2024-08-26T21:07:51.751Z"
   },
   {
    "duration": 10,
    "start_time": "2024-08-26T21:07:54.813Z"
   },
   {
    "duration": 11,
    "start_time": "2024-08-26T21:07:57.266Z"
   },
   {
    "duration": 27,
    "start_time": "2024-08-26T21:08:00.365Z"
   },
   {
    "duration": 25,
    "start_time": "2024-08-26T21:08:03.018Z"
   },
   {
    "duration": 26,
    "start_time": "2024-08-26T21:08:05.868Z"
   },
   {
    "duration": 32,
    "start_time": "2024-08-26T21:08:08.924Z"
   },
   {
    "duration": 31,
    "start_time": "2024-08-26T21:08:13.921Z"
   },
   {
    "duration": 35,
    "start_time": "2024-08-26T21:08:18.057Z"
   },
   {
    "duration": 3,
    "start_time": "2024-08-26T21:08:34.947Z"
   },
   {
    "duration": 3,
    "start_time": "2024-08-26T21:08:42.039Z"
   },
   {
    "duration": 21,
    "start_time": "2024-08-26T21:08:50.413Z"
   },
   {
    "duration": 20,
    "start_time": "2024-08-26T21:08:51.744Z"
   },
   {
    "duration": 18,
    "start_time": "2024-08-26T21:08:54.206Z"
   },
   {
    "duration": 19,
    "start_time": "2024-08-26T21:09:41.614Z"
   },
   {
    "duration": 3,
    "start_time": "2024-08-26T21:10:15.506Z"
   },
   {
    "duration": 3,
    "start_time": "2024-08-26T21:10:19.301Z"
   },
   {
    "duration": 3,
    "start_time": "2024-08-26T21:11:17.254Z"
   },
   {
    "duration": 7,
    "start_time": "2024-08-26T21:11:27.727Z"
   },
   {
    "duration": 7,
    "start_time": "2024-08-26T21:11:29.649Z"
   },
   {
    "duration": 7,
    "start_time": "2024-08-26T21:11:31.396Z"
   },
   {
    "duration": 4,
    "start_time": "2024-08-26T21:15:28.681Z"
   },
   {
    "duration": 229,
    "start_time": "2024-08-26T21:15:31.228Z"
   },
   {
    "duration": 13,
    "start_time": "2024-08-26T21:16:02.340Z"
   },
   {
    "duration": 12,
    "start_time": "2024-08-26T21:16:10.432Z"
   },
   {
    "duration": 17,
    "start_time": "2024-08-26T21:16:27.134Z"
   },
   {
    "duration": 14,
    "start_time": "2024-08-26T21:16:34.703Z"
   },
   {
    "duration": 4,
    "start_time": "2024-08-26T21:16:48.962Z"
   },
   {
    "duration": 275,
    "start_time": "2024-08-26T21:17:14.743Z"
   },
   {
    "duration": 16,
    "start_time": "2024-08-26T21:17:49.973Z"
   },
   {
    "duration": 5,
    "start_time": "2024-08-26T21:17:56.528Z"
   },
   {
    "duration": 5,
    "start_time": "2024-08-26T21:18:15.962Z"
   },
   {
    "duration": 7,
    "start_time": "2024-08-26T21:19:32.059Z"
   },
   {
    "duration": 703,
    "start_time": "2024-08-26T21:21:42.522Z"
   },
   {
    "duration": 51,
    "start_time": "2024-08-26T21:21:57.371Z"
   },
   {
    "duration": 53,
    "start_time": "2024-08-26T21:22:10.906Z"
   },
   {
    "duration": 2,
    "start_time": "2024-08-26T21:30:22.102Z"
   },
   {
    "duration": 8,
    "start_time": "2024-08-26T21:30:25.288Z"
   },
   {
    "duration": 3,
    "start_time": "2024-08-26T21:30:47.601Z"
   },
   {
    "duration": 8,
    "start_time": "2024-08-26T21:30:50.980Z"
   },
   {
    "duration": 3,
    "start_time": "2024-08-26T21:31:27.854Z"
   },
   {
    "duration": 8,
    "start_time": "2024-08-26T21:31:32.461Z"
   },
   {
    "duration": 57,
    "start_time": "2024-08-26T21:31:55.912Z"
   },
   {
    "duration": 3,
    "start_time": "2024-08-26T21:34:25.218Z"
   },
   {
    "duration": 8,
    "start_time": "2024-08-26T21:34:28.582Z"
   },
   {
    "duration": 52,
    "start_time": "2024-08-26T21:34:33.624Z"
   },
   {
    "duration": 8,
    "start_time": "2024-08-26T21:35:28.181Z"
   },
   {
    "duration": 8,
    "start_time": "2024-08-26T21:35:38.333Z"
   },
   {
    "duration": 9,
    "start_time": "2024-08-26T21:35:41.603Z"
   },
   {
    "duration": 77,
    "start_time": "2024-08-26T21:35:50.322Z"
   },
   {
    "duration": 23,
    "start_time": "2024-08-26T21:50:16.720Z"
   },
   {
    "duration": 8,
    "start_time": "2024-08-26T21:54:45.533Z"
   },
   {
    "duration": 5,
    "start_time": "2024-08-26T21:55:58.038Z"
   },
   {
    "duration": 3,
    "start_time": "2024-08-26T21:56:22.297Z"
   },
   {
    "duration": 3,
    "start_time": "2024-08-26T21:56:52.334Z"
   },
   {
    "duration": 8,
    "start_time": "2024-08-26T21:56:55.585Z"
   },
   {
    "duration": 7,
    "start_time": "2024-08-26T21:56:57.522Z"
   },
   {
    "duration": 7,
    "start_time": "2024-08-26T21:56:59.681Z"
   },
   {
    "duration": 6,
    "start_time": "2024-08-26T21:57:04.608Z"
   },
   {
    "duration": 5,
    "start_time": "2024-08-26T21:59:25.391Z"
   },
   {
    "duration": 555,
    "start_time": "2024-08-26T21:59:34.201Z"
   },
   {
    "duration": 545,
    "start_time": "2024-08-26T21:59:37.580Z"
   },
   {
    "duration": 536,
    "start_time": "2024-08-26T21:59:40.545Z"
   },
   {
    "duration": 878,
    "start_time": "2024-08-26T22:03:29.008Z"
   },
   {
    "duration": 218,
    "start_time": "2024-08-26T22:03:29.888Z"
   },
   {
    "duration": 10,
    "start_time": "2024-08-26T22:03:30.107Z"
   },
   {
    "duration": 7,
    "start_time": "2024-08-26T22:03:30.121Z"
   },
   {
    "duration": 8,
    "start_time": "2024-08-26T22:03:30.130Z"
   },
   {
    "duration": 12,
    "start_time": "2024-08-26T22:03:30.139Z"
   },
   {
    "duration": 11,
    "start_time": "2024-08-26T22:03:30.153Z"
   },
   {
    "duration": 10,
    "start_time": "2024-08-26T22:03:30.165Z"
   },
   {
    "duration": 55,
    "start_time": "2024-08-26T22:03:30.176Z"
   },
   {
    "duration": 27,
    "start_time": "2024-08-26T22:03:30.233Z"
   },
   {
    "duration": 24,
    "start_time": "2024-08-26T22:03:30.261Z"
   },
   {
    "duration": 56,
    "start_time": "2024-08-26T22:03:30.287Z"
   },
   {
    "duration": 34,
    "start_time": "2024-08-26T22:03:30.345Z"
   },
   {
    "duration": 40,
    "start_time": "2024-08-26T22:03:30.383Z"
   },
   {
    "duration": 4,
    "start_time": "2024-08-26T22:03:30.426Z"
   },
   {
    "duration": 4,
    "start_time": "2024-08-26T22:03:30.431Z"
   },
   {
    "duration": 22,
    "start_time": "2024-08-26T22:03:30.436Z"
   },
   {
    "duration": 72,
    "start_time": "2024-08-26T22:03:30.461Z"
   },
   {
    "duration": 90,
    "start_time": "2024-08-26T22:03:30.535Z"
   },
   {
    "duration": 3,
    "start_time": "2024-08-26T22:03:30.627Z"
   },
   {
    "duration": 6,
    "start_time": "2024-08-26T22:03:30.631Z"
   },
   {
    "duration": 3,
    "start_time": "2024-08-26T22:03:30.640Z"
   },
   {
    "duration": 83,
    "start_time": "2024-08-26T22:03:30.645Z"
   },
   {
    "duration": 7,
    "start_time": "2024-08-26T22:03:30.730Z"
   },
   {
    "duration": 8,
    "start_time": "2024-08-26T22:03:30.739Z"
   },
   {
    "duration": 7,
    "start_time": "2024-08-26T22:03:30.749Z"
   },
   {
    "duration": 6,
    "start_time": "2024-08-26T22:03:30.758Z"
   },
   {
    "duration": 577,
    "start_time": "2024-08-26T22:03:30.766Z"
   },
   {
    "duration": 562,
    "start_time": "2024-08-26T22:03:31.345Z"
   },
   {
    "duration": 559,
    "start_time": "2024-08-26T22:03:31.909Z"
   },
   {
    "duration": 5,
    "start_time": "2024-08-26T22:09:48.926Z"
   },
   {
    "duration": 527,
    "start_time": "2024-08-26T22:09:52.605Z"
   },
   {
    "duration": 559,
    "start_time": "2024-08-26T22:11:32.341Z"
   },
   {
    "duration": 4,
    "start_time": "2024-08-26T22:11:38.996Z"
   },
   {
    "duration": 533,
    "start_time": "2024-08-26T22:11:42.293Z"
   },
   {
    "duration": 548,
    "start_time": "2024-08-26T22:11:45.675Z"
   },
   {
    "duration": 533,
    "start_time": "2024-08-26T22:11:47.868Z"
   },
   {
    "duration": 8,
    "start_time": "2024-08-26T22:15:18.760Z"
   },
   {
    "duration": 6,
    "start_time": "2024-08-26T22:15:40.877Z"
   },
   {
    "duration": 167,
    "start_time": "2024-08-26T22:15:49.828Z"
   },
   {
    "duration": 138,
    "start_time": "2024-08-26T22:16:01.988Z"
   },
   {
    "duration": 137,
    "start_time": "2024-08-26T22:16:51.427Z"
   },
   {
    "duration": 140,
    "start_time": "2024-08-26T22:17:03.200Z"
   },
   {
    "duration": 140,
    "start_time": "2024-08-26T22:17:27.674Z"
   },
   {
    "duration": 144,
    "start_time": "2024-08-26T22:17:36.072Z"
   },
   {
    "duration": 907,
    "start_time": "2024-08-26T23:05:08.187Z"
   },
   {
    "duration": 225,
    "start_time": "2024-08-26T23:05:09.096Z"
   },
   {
    "duration": 10,
    "start_time": "2024-08-26T23:05:09.323Z"
   },
   {
    "duration": 6,
    "start_time": "2024-08-26T23:05:09.336Z"
   },
   {
    "duration": 7,
    "start_time": "2024-08-26T23:05:09.344Z"
   },
   {
    "duration": 12,
    "start_time": "2024-08-26T23:05:09.353Z"
   },
   {
    "duration": 11,
    "start_time": "2024-08-26T23:05:09.366Z"
   },
   {
    "duration": 43,
    "start_time": "2024-08-26T23:05:09.379Z"
   },
   {
    "duration": 27,
    "start_time": "2024-08-26T23:05:09.424Z"
   },
   {
    "duration": 24,
    "start_time": "2024-08-26T23:05:09.455Z"
   },
   {
    "duration": 44,
    "start_time": "2024-08-26T23:05:09.481Z"
   },
   {
    "duration": 32,
    "start_time": "2024-08-26T23:05:09.526Z"
   },
   {
    "duration": 29,
    "start_time": "2024-08-26T23:05:09.561Z"
   },
   {
    "duration": 45,
    "start_time": "2024-08-26T23:05:09.592Z"
   },
   {
    "duration": 4,
    "start_time": "2024-08-26T23:05:09.640Z"
   },
   {
    "duration": 3,
    "start_time": "2024-08-26T23:05:09.646Z"
   },
   {
    "duration": 17,
    "start_time": "2024-08-26T23:05:09.650Z"
   },
   {
    "duration": 60,
    "start_time": "2024-08-26T23:05:09.670Z"
   },
   {
    "duration": 93,
    "start_time": "2024-08-26T23:05:09.732Z"
   },
   {
    "duration": 3,
    "start_time": "2024-08-26T23:05:09.826Z"
   },
   {
    "duration": 4,
    "start_time": "2024-08-26T23:05:09.831Z"
   },
   {
    "duration": 5,
    "start_time": "2024-08-26T23:05:09.836Z"
   },
   {
    "duration": 83,
    "start_time": "2024-08-26T23:05:09.842Z"
   },
   {
    "duration": 7,
    "start_time": "2024-08-26T23:05:09.927Z"
   },
   {
    "duration": 6,
    "start_time": "2024-08-26T23:05:09.935Z"
   },
   {
    "duration": 5,
    "start_time": "2024-08-26T23:05:09.943Z"
   },
   {
    "duration": 586,
    "start_time": "2024-08-26T23:05:09.949Z"
   },
   {
    "duration": 553,
    "start_time": "2024-08-26T23:05:10.538Z"
   },
   {
    "duration": 543,
    "start_time": "2024-08-26T23:05:11.093Z"
   },
   {
    "duration": 867,
    "start_time": "2024-08-26T23:05:26.918Z"
   },
   {
    "duration": 212,
    "start_time": "2024-08-26T23:05:27.789Z"
   },
   {
    "duration": 10,
    "start_time": "2024-08-26T23:05:28.003Z"
   },
   {
    "duration": 11,
    "start_time": "2024-08-26T23:05:28.015Z"
   },
   {
    "duration": 8,
    "start_time": "2024-08-26T23:05:28.028Z"
   },
   {
    "duration": 13,
    "start_time": "2024-08-26T23:05:28.038Z"
   },
   {
    "duration": 11,
    "start_time": "2024-08-26T23:05:28.053Z"
   },
   {
    "duration": 10,
    "start_time": "2024-08-26T23:05:28.065Z"
   },
   {
    "duration": 62,
    "start_time": "2024-08-26T23:05:28.076Z"
   },
   {
    "duration": 24,
    "start_time": "2024-08-26T23:05:28.142Z"
   },
   {
    "duration": 24,
    "start_time": "2024-08-26T23:05:28.168Z"
   },
   {
    "duration": 47,
    "start_time": "2024-08-26T23:05:28.193Z"
   },
   {
    "duration": 28,
    "start_time": "2024-08-26T23:05:28.242Z"
   },
   {
    "duration": 31,
    "start_time": "2024-08-26T23:05:28.272Z"
   },
   {
    "duration": 3,
    "start_time": "2024-08-26T23:05:28.322Z"
   },
   {
    "duration": 4,
    "start_time": "2024-08-26T23:05:28.327Z"
   },
   {
    "duration": 22,
    "start_time": "2024-08-26T23:05:28.332Z"
   },
   {
    "duration": 73,
    "start_time": "2024-08-26T23:05:28.356Z"
   },
   {
    "duration": 92,
    "start_time": "2024-08-26T23:05:28.433Z"
   },
   {
    "duration": 4,
    "start_time": "2024-08-26T23:05:28.530Z"
   },
   {
    "duration": 6,
    "start_time": "2024-08-26T23:05:28.538Z"
   },
   {
    "duration": 2,
    "start_time": "2024-08-26T23:05:28.623Z"
   },
   {
    "duration": 7,
    "start_time": "2024-08-26T23:05:28.627Z"
   },
   {
    "duration": 6,
    "start_time": "2024-08-26T23:05:28.636Z"
   },
   {
    "duration": 6,
    "start_time": "2024-08-26T23:05:28.644Z"
   },
   {
    "duration": 5,
    "start_time": "2024-08-26T23:05:28.651Z"
   },
   {
    "duration": 567,
    "start_time": "2024-08-26T23:05:28.658Z"
   },
   {
    "duration": 533,
    "start_time": "2024-08-26T23:05:29.229Z"
   },
   {
    "duration": 537,
    "start_time": "2024-08-26T23:05:29.764Z"
   },
   {
    "duration": 2603,
    "start_time": "2024-08-28T23:17:30.216Z"
   },
   {
    "duration": 333,
    "start_time": "2024-08-28T23:17:32.821Z"
   },
   {
    "duration": 10,
    "start_time": "2024-08-28T23:17:33.155Z"
   },
   {
    "duration": 7,
    "start_time": "2024-08-28T23:17:33.829Z"
   },
   {
    "duration": 7,
    "start_time": "2024-08-28T23:17:34.438Z"
   },
   {
    "duration": 11,
    "start_time": "2024-08-28T23:17:34.447Z"
   },
   {
    "duration": 10,
    "start_time": "2024-08-28T23:17:34.584Z"
   },
   {
    "duration": 10,
    "start_time": "2024-08-28T23:17:34.672Z"
   },
   {
    "duration": 26,
    "start_time": "2024-08-28T23:17:35.088Z"
   },
   {
    "duration": 25,
    "start_time": "2024-08-28T23:17:36.871Z"
   },
   {
    "duration": 24,
    "start_time": "2024-08-28T23:17:37.114Z"
   },
   {
    "duration": 30,
    "start_time": "2024-08-28T23:17:37.313Z"
   },
   {
    "duration": 34,
    "start_time": "2024-08-28T23:17:37.496Z"
   },
   {
    "duration": 30,
    "start_time": "2024-08-28T23:17:37.750Z"
   },
   {
    "duration": 3,
    "start_time": "2024-08-28T23:17:39.525Z"
   },
   {
    "duration": 3,
    "start_time": "2024-08-28T23:17:41.869Z"
   },
   {
    "duration": 15,
    "start_time": "2024-08-28T23:17:42.094Z"
   },
   {
    "duration": 15,
    "start_time": "2024-08-28T23:17:42.299Z"
   },
   {
    "duration": 15,
    "start_time": "2024-08-28T23:17:42.494Z"
   },
   {
    "duration": 2,
    "start_time": "2024-08-28T23:17:44.287Z"
   },
   {
    "duration": 3,
    "start_time": "2024-08-28T23:17:44.545Z"
   },
   {
    "duration": 3,
    "start_time": "2024-08-28T23:17:45.466Z"
   },
   {
    "duration": 7,
    "start_time": "2024-08-28T23:17:46.635Z"
   },
   {
    "duration": 3,
    "start_time": "2024-08-28T23:22:19.327Z"
   },
   {
    "duration": 484,
    "start_time": "2024-08-28T23:22:22.641Z"
   },
   {
    "duration": 5,
    "start_time": "2024-08-28T23:22:52.283Z"
   },
   {
    "duration": 4,
    "start_time": "2024-08-28T23:23:10.469Z"
   },
   {
    "duration": 3,
    "start_time": "2024-08-28T23:23:40.460Z"
   },
   {
    "duration": 54,
    "start_time": "2024-08-28T23:23:43.315Z"
   },
   {
    "duration": 3,
    "start_time": "2024-08-28T23:24:15.959Z"
   },
   {
    "duration": 54,
    "start_time": "2024-08-28T23:24:20.824Z"
   },
   {
    "duration": 3,
    "start_time": "2024-08-28T23:25:27.093Z"
   },
   {
    "duration": 5,
    "start_time": "2024-08-28T23:25:29.281Z"
   },
   {
    "duration": 44,
    "start_time": "2024-08-28T23:25:29.442Z"
   },
   {
    "duration": 47,
    "start_time": "2024-08-28T23:25:29.600Z"
   },
   {
    "duration": 3,
    "start_time": "2024-08-28T23:26:15.984Z"
   },
   {
    "duration": 5,
    "start_time": "2024-08-28T23:26:21.063Z"
   },
   {
    "duration": 45,
    "start_time": "2024-08-28T23:26:21.373Z"
   },
   {
    "duration": 2,
    "start_time": "2024-08-28T23:27:35.052Z"
   },
   {
    "duration": 4,
    "start_time": "2024-08-28T23:27:36.202Z"
   },
   {
    "duration": 45,
    "start_time": "2024-08-28T23:27:39.377Z"
   },
   {
    "duration": 3,
    "start_time": "2024-08-28T23:27:49.149Z"
   },
   {
    "duration": 5,
    "start_time": "2024-08-28T23:27:50.610Z"
   },
   {
    "duration": 48,
    "start_time": "2024-08-28T23:27:50.812Z"
   },
   {
    "duration": 3,
    "start_time": "2024-08-28T23:28:32.085Z"
   },
   {
    "duration": 5,
    "start_time": "2024-08-28T23:28:33.109Z"
   },
   {
    "duration": 22,
    "start_time": "2024-08-28T23:28:33.538Z"
   },
   {
    "duration": 3,
    "start_time": "2024-08-28T23:28:39.958Z"
   },
   {
    "duration": 4,
    "start_time": "2024-08-28T23:28:40.878Z"
   },
   {
    "duration": 21,
    "start_time": "2024-08-28T23:28:41.109Z"
   },
   {
    "duration": 5,
    "start_time": "2024-08-28T23:29:26.491Z"
   },
   {
    "duration": 3,
    "start_time": "2024-08-28T23:29:44.316Z"
   },
   {
    "duration": 4,
    "start_time": "2024-08-28T23:29:55.721Z"
   },
   {
    "duration": 3,
    "start_time": "2024-08-28T23:30:02.597Z"
   },
   {
    "duration": 4,
    "start_time": "2024-08-28T23:30:07.126Z"
   },
   {
    "duration": 11,
    "start_time": "2024-08-28T23:30:13.247Z"
   },
   {
    "duration": 16,
    "start_time": "2024-08-28T23:30:26.417Z"
   },
   {
    "duration": 40,
    "start_time": "2024-08-28T23:30:29.694Z"
   },
   {
    "duration": 6,
    "start_time": "2024-08-28T23:32:50.364Z"
   },
   {
    "duration": 4,
    "start_time": "2024-08-28T23:33:10.040Z"
   },
   {
    "duration": 4,
    "start_time": "2024-08-28T23:33:22.874Z"
   },
   {
    "duration": 3,
    "start_time": "2024-08-28T23:33:33.292Z"
   },
   {
    "duration": 213,
    "start_time": "2024-08-28T23:33:33.496Z"
   },
   {
    "duration": 7,
    "start_time": "2024-08-28T23:33:33.711Z"
   },
   {
    "duration": 7,
    "start_time": "2024-08-28T23:33:33.798Z"
   },
   {
    "duration": 7,
    "start_time": "2024-08-28T23:33:34.016Z"
   },
   {
    "duration": 11,
    "start_time": "2024-08-28T23:33:34.114Z"
   },
   {
    "duration": 10,
    "start_time": "2024-08-28T23:33:34.300Z"
   },
   {
    "duration": 11,
    "start_time": "2024-08-28T23:33:34.688Z"
   },
   {
    "duration": 26,
    "start_time": "2024-08-28T23:33:35.591Z"
   },
   {
    "duration": 24,
    "start_time": "2024-08-28T23:33:35.951Z"
   },
   {
    "duration": 23,
    "start_time": "2024-08-28T23:33:36.112Z"
   },
   {
    "duration": 31,
    "start_time": "2024-08-28T23:33:36.294Z"
   },
   {
    "duration": 27,
    "start_time": "2024-08-28T23:33:36.911Z"
   },
   {
    "duration": 30,
    "start_time": "2024-08-28T23:33:37.166Z"
   },
   {
    "duration": 3,
    "start_time": "2024-08-28T23:33:40.600Z"
   },
   {
    "duration": 3,
    "start_time": "2024-08-28T23:33:50.262Z"
   },
   {
    "duration": 20,
    "start_time": "2024-08-28T23:34:19.337Z"
   },
   {
    "duration": 14,
    "start_time": "2024-08-28T23:34:19.991Z"
   },
   {
    "duration": 20,
    "start_time": "2024-08-28T23:34:53.269Z"
   },
   {
    "duration": 13,
    "start_time": "2024-08-28T23:35:01.056Z"
   },
   {
    "duration": 13,
    "start_time": "2024-08-28T23:35:03.266Z"
   },
   {
    "duration": 9,
    "start_time": "2024-08-28T23:35:05.482Z"
   },
   {
    "duration": 20,
    "start_time": "2024-08-28T23:35:31.868Z"
   },
   {
    "duration": 3,
    "start_time": "2024-08-28T23:35:34.945Z"
   },
   {
    "duration": 7,
    "start_time": "2024-08-28T23:35:35.452Z"
   },
   {
    "duration": 6,
    "start_time": "2024-08-28T23:35:36.703Z"
   },
   {
    "duration": 7,
    "start_time": "2024-08-28T23:35:38.729Z"
   },
   {
    "duration": 2628,
    "start_time": "2024-08-29T03:07:40.351Z"
   },
   {
    "duration": 344,
    "start_time": "2024-08-29T03:07:47.826Z"
   },
   {
    "duration": 10,
    "start_time": "2024-08-29T03:07:49.228Z"
   },
   {
    "duration": 8,
    "start_time": "2024-08-29T03:07:50.443Z"
   },
   {
    "duration": 7,
    "start_time": "2024-08-29T03:07:53.027Z"
   },
   {
    "duration": 13,
    "start_time": "2024-08-29T03:07:54.162Z"
   },
   {
    "duration": 14,
    "start_time": "2024-08-29T03:07:56.441Z"
   },
   {
    "duration": 12,
    "start_time": "2024-08-29T03:07:58.958Z"
   },
   {
    "duration": 28,
    "start_time": "2024-08-29T03:08:03.358Z"
   },
   {
    "duration": 26,
    "start_time": "2024-08-29T03:08:05.872Z"
   },
   {
    "duration": 24,
    "start_time": "2024-08-29T03:08:08.422Z"
   },
   {
    "duration": 37,
    "start_time": "2024-08-29T03:08:11.036Z"
   },
   {
    "duration": 28,
    "start_time": "2024-08-29T03:08:13.271Z"
   },
   {
    "duration": 35,
    "start_time": "2024-08-29T03:08:14.252Z"
   },
   {
    "duration": 3,
    "start_time": "2024-08-29T03:08:36.697Z"
   },
   {
    "duration": 3,
    "start_time": "2024-08-29T03:08:47.982Z"
   },
   {
    "duration": 3,
    "start_time": "2024-08-29T03:09:05.029Z"
   },
   {
    "duration": 23,
    "start_time": "2024-08-29T03:09:07.593Z"
   },
   {
    "duration": 19,
    "start_time": "2024-08-29T03:09:31.554Z"
   },
   {
    "duration": 18,
    "start_time": "2024-08-29T03:09:33.175Z"
   },
   {
    "duration": 3,
    "start_time": "2024-08-29T03:09:59.850Z"
   },
   {
    "duration": 4,
    "start_time": "2024-08-29T03:10:03.216Z"
   },
   {
    "duration": 912,
    "start_time": "2024-08-29T03:24:13.799Z"
   },
   {
    "duration": 232,
    "start_time": "2024-08-29T03:24:14.714Z"
   },
   {
    "duration": 9,
    "start_time": "2024-08-29T03:24:14.948Z"
   },
   {
    "duration": 7,
    "start_time": "2024-08-29T03:24:14.959Z"
   },
   {
    "duration": 7,
    "start_time": "2024-08-29T03:24:14.968Z"
   },
   {
    "duration": 37,
    "start_time": "2024-08-29T03:24:14.977Z"
   },
   {
    "duration": 12,
    "start_time": "2024-08-29T03:24:15.016Z"
   },
   {
    "duration": 11,
    "start_time": "2024-08-29T03:24:15.030Z"
   },
   {
    "duration": 30,
    "start_time": "2024-08-29T03:24:15.043Z"
   },
   {
    "duration": 56,
    "start_time": "2024-08-29T03:24:15.077Z"
   },
   {
    "duration": 28,
    "start_time": "2024-08-29T03:24:15.135Z"
   },
   {
    "duration": 54,
    "start_time": "2024-08-29T03:24:15.165Z"
   },
   {
    "duration": 37,
    "start_time": "2024-08-29T03:24:15.221Z"
   },
   {
    "duration": 49,
    "start_time": "2024-08-29T03:24:15.260Z"
   },
   {
    "duration": 4,
    "start_time": "2024-08-29T03:24:15.311Z"
   },
   {
    "duration": 2,
    "start_time": "2024-08-29T03:24:15.319Z"
   },
   {
    "duration": 24,
    "start_time": "2024-08-29T03:24:15.323Z"
   },
   {
    "duration": 76,
    "start_time": "2024-08-29T03:24:15.350Z"
   },
   {
    "duration": 93,
    "start_time": "2024-08-29T03:24:15.428Z"
   },
   {
    "duration": 2,
    "start_time": "2024-08-29T03:24:15.523Z"
   },
   {
    "duration": 83,
    "start_time": "2024-08-29T03:24:15.529Z"
   },
   {
    "duration": 5,
    "start_time": "2024-08-29T03:24:15.615Z"
   },
   {
    "duration": 15,
    "start_time": "2024-08-29T03:24:15.621Z"
   },
   {
    "duration": 15,
    "start_time": "2024-08-29T03:24:15.638Z"
   },
   {
    "duration": 64,
    "start_time": "2024-08-29T03:24:15.655Z"
   },
   {
    "duration": 5,
    "start_time": "2024-08-29T03:24:15.721Z"
   },
   {
    "duration": 593,
    "start_time": "2024-08-29T03:24:15.727Z"
   },
   {
    "duration": 576,
    "start_time": "2024-08-29T03:24:16.323Z"
   },
   {
    "duration": 624,
    "start_time": "2024-08-29T03:24:16.909Z"
   },
   {
    "duration": 898,
    "start_time": "2024-08-29T04:48:55.714Z"
   },
   {
    "duration": 218,
    "start_time": "2024-08-29T04:48:56.614Z"
   },
   {
    "duration": 10,
    "start_time": "2024-08-29T04:48:56.834Z"
   },
   {
    "duration": 8,
    "start_time": "2024-08-29T04:48:56.846Z"
   },
   {
    "duration": 9,
    "start_time": "2024-08-29T04:48:56.856Z"
   },
   {
    "duration": 14,
    "start_time": "2024-08-29T04:48:56.867Z"
   },
   {
    "duration": 38,
    "start_time": "2024-08-29T04:48:56.882Z"
   },
   {
    "duration": 12,
    "start_time": "2024-08-29T04:48:56.922Z"
   },
   {
    "duration": 31,
    "start_time": "2024-08-29T04:48:56.935Z"
   },
   {
    "duration": 52,
    "start_time": "2024-08-29T04:48:56.970Z"
   },
   {
    "duration": 23,
    "start_time": "2024-08-29T04:48:57.024Z"
   },
   {
    "duration": 33,
    "start_time": "2024-08-29T04:48:57.048Z"
   },
   {
    "duration": 46,
    "start_time": "2024-08-29T04:48:57.083Z"
   },
   {
    "duration": 32,
    "start_time": "2024-08-29T04:48:57.131Z"
   },
   {
    "duration": 4,
    "start_time": "2024-08-29T04:48:57.165Z"
   },
   {
    "duration": 4,
    "start_time": "2024-08-29T04:48:57.170Z"
   },
   {
    "duration": 54,
    "start_time": "2024-08-29T04:48:57.175Z"
   },
   {
    "duration": 105,
    "start_time": "2024-08-29T04:48:57.231Z"
   },
   {
    "duration": 25,
    "start_time": "2024-08-29T04:48:57.410Z"
   },
   {
    "duration": 2,
    "start_time": "2024-08-29T04:48:57.437Z"
   },
   {
    "duration": 70,
    "start_time": "2024-08-29T04:48:57.441Z"
   },
   {
    "duration": 3,
    "start_time": "2024-08-29T04:48:57.513Z"
   },
   {
    "duration": 19,
    "start_time": "2024-08-29T04:48:57.517Z"
   },
   {
    "duration": 81,
    "start_time": "2024-08-29T04:48:57.538Z"
   },
   {
    "duration": 14,
    "start_time": "2024-08-29T04:48:57.621Z"
   },
   {
    "duration": 4,
    "start_time": "2024-08-29T04:48:57.637Z"
   },
   {
    "duration": 612,
    "start_time": "2024-08-29T04:48:57.643Z"
   },
   {
    "duration": 570,
    "start_time": "2024-08-29T04:48:58.259Z"
   },
   {
    "duration": 571,
    "start_time": "2024-08-29T04:48:58.831Z"
   }
  ],
  "kernelspec": {
   "display_name": "Python 3",
   "language": "python",
   "name": "python3"
  },
  "language_info": {
   "codemirror_mode": {
    "name": "ipython",
    "version": 3
   },
   "file_extension": ".py",
   "mimetype": "text/x-python",
   "name": "python",
   "nbconvert_exporter": "python",
   "pygments_lexer": "ipython3",
   "version": "3.12.1"
  },
  "toc": {
   "base_numbering": 1,
   "nav_menu": {},
   "number_sections": true,
   "sideBar": true,
   "skip_h1_title": true,
   "title_cell": "Table of Contents",
   "title_sidebar": "Contents",
   "toc_cell": false,
   "toc_position": {},
   "toc_section_display": true,
   "toc_window_display": false
  }
 },
 "nbformat": 4,
 "nbformat_minor": 4
}
